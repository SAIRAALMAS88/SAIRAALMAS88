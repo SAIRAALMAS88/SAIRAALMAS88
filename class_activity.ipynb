{
  "nbformat": 4,
  "nbformat_minor": 0,
  "metadata": {
    "colab": {
      "provenance": [],
      "authorship_tag": "ABX9TyNdLAuvYjfTE07G0nBfRfCb",
      "include_colab_link": true
    },
    "kernelspec": {
      "name": "python3",
      "display_name": "Python 3"
    },
    "language_info": {
      "name": "python"
    }
  },
  "cells": [
    {
      "cell_type": "markdown",
      "metadata": {
        "id": "view-in-github",
        "colab_type": "text"
      },
      "source": [
        "<a href=\"https://colab.research.google.com/github/SAIRAALMAS88/SAIRAALMAS88/blob/main/class_activity.ipynb\" target=\"_parent\"><img src=\"https://colab.research.google.com/assets/colab-badge.svg\" alt=\"Open In Colab\"/></a>"
      ]
    },
    {
      "cell_type": "markdown",
      "source": [
        "**1- Loops: Write a Python function that takes a list of integers and returns a new list containing only the even numbers from the original list. Use a for loop to iterate through the list.**\n"
      ],
      "metadata": {
        "id": "ksp4JpKc2ddH"
      }
    },
    {
      "cell_type": "code",
      "source": [
        "def get_even_numbers(numbers):\n",
        "  \"\"\"Returns a new list containing only the even numbers from the input list.\n",
        "\n",
        "  Args:\n",
        "    numbers: A list of\n",
        " integers.\n",
        "\n",
        "  Returns:\n",
        "    A new list containing the even numbers from the input list.\n",
        "  \"\"\"\n",
        "\n",
        "  even_numbers = []\n",
        "  for number in numbers:\n",
        "    if number % 2 == 0:\n",
        "      even_numbers.append(number)\n",
        "  return even_numbers\n",
        "\n",
        "\n",
        "# Example usage:\n",
        "my_list = [1, 2, 3, 4, 5, 6, 7, 8, 9, 10]\n",
        "result = get_even_numbers(my_list)\n",
        "print(result)  # Output: [2, 4, 6, 8, 10]"
      ],
      "metadata": {
        "colab": {
          "base_uri": "https://localhost:8080/"
        },
        "id": "hU5tMmCT2g7w",
        "outputId": "bde20192-c7e5-4faa-eb1a-4553e37afd5c"
      },
      "execution_count": 24,
      "outputs": [
        {
          "output_type": "stream",
          "name": "stdout",
          "text": [
            "[2, 4, 6, 8, 10]\n"
          ]
        }
      ]
    },
    {
      "cell_type": "markdown",
      "source": [
        "**2- Data Types: Given a dictionary that contains student names as keys and their scores as values, write a Python function that returns the name of the student with the highest score. You should use the dictionary’s methods and loops.**"
      ],
      "metadata": {
        "id": "mVyf9tiA3Ae0"
      }
    },
    {
      "cell_type": "code",
      "source": [
        "def find_top_scorer(scores):\n",
        "  \"\"\"Finds the name of the student with the highest score.\n",
        "\n",
        "  Args:\n",
        "    scores: A dictionary containing student names as keys and their scores as values.\n",
        "\n",
        "  Returns:\n",
        "    The name of the student with the highest score.\n",
        "  \"\"\"\n",
        "\n",
        "  top_scorer = \"\"\n",
        "  highest_score = 0\n",
        "\n",
        "  for student, score in scores.items():\n",
        "    if score > highest_score:\n",
        "      highest_score = score\n",
        "      top_scorer = student\n",
        "\n",
        "  return top_scorer\n",
        "\n",
        "  # Example usage:\n",
        "student_scores = {\"Ali\": 95, \"Badar\": 88, \"Chaudhary\": 92, \"Dawood\": 98}\n",
        "top_student = find_top_scorer(student_scores)\n",
        "print(\"The top scorer is:\", top_student)"
      ],
      "metadata": {
        "colab": {
          "base_uri": "https://localhost:8080/"
        },
        "id": "vzHM9tdb3FGk",
        "outputId": "c9ba406d-7bed-4deb-dc73-923e8e164a0f"
      },
      "execution_count": 8,
      "outputs": [
        {
          "output_type": "stream",
          "name": "stdout",
          "text": [
            "The top scorer is: Dawood\n"
          ]
        }
      ]
    },
    {
      "cell_type": "markdown",
      "source": [
        "**3- Functions: Write a Python function reverse_string(s) that takes a string s as input and returns the string reversed. Use string slicing and explain why slicing is more efficient than a loop in this case**"
      ],
      "metadata": {
        "id": "F6upQUwS3aXN"
      }
    },
    {
      "cell_type": "code",
      "source": [
        "def reverse_string(s):\n",
        "    \"\"\"Reverses a string using string slicing.\n",
        "\n",
        "    Args:\n",
        "        s: The string to be reversed.\n",
        "\n",
        "    Returns:\n",
        "        The reversed string.\n",
        "    \"\"\"\n",
        "    return s[::-1]\n",
        "\n",
        "# Example usage:\n",
        "string = \"hello world\"\n",
        "reversed_string = reverse_string(string)\n",
        "print(reversed_string)  # Output: \"dlrow olleh\""
      ],
      "metadata": {
        "colab": {
          "base_uri": "https://localhost:8080/"
        },
        "id": "1IEjaNk13b-y",
        "outputId": "55215725-2c18-41ca-86b7-9b07f58eaf47"
      },
      "execution_count": 6,
      "outputs": [
        {
          "output_type": "stream",
          "name": "stdout",
          "text": [
            "dlrow olleh\n"
          ]
        }
      ]
    },
    {
      "cell_type": "markdown",
      "source": [
        "**4- Loops & Data Types: Create a Python program that prompts the user for a number and then prints a list of all prime numbers up to that number using a while loop.**"
      ],
      "metadata": {
        "id": "VhuHhMkM7HZD"
      }
    },
    {
      "cell_type": "code",
      "source": [
        "def isPrime(x):\n",
        "  #can be made more efficient by using math.sqrt(x)\n",
        "  i = 2\n",
        "  while i <= x/2:\n",
        "    if (x % i == 0):\n",
        "      return False\n",
        "    i += 1\n",
        "  return True\n",
        "\n",
        "number = int(input(\"Please enter a number: \"))\n",
        "x = 2\n",
        "primes = list()\n",
        "while x <= number:\n",
        "  if (isPrime(x)):\n",
        "    primes.append(x)\n",
        "  x += 1\n",
        "\n",
        "print(primes)"
      ],
      "metadata": {
        "colab": {
          "base_uri": "https://localhost:8080/"
        },
        "id": "6t0DlxJdNfAY",
        "outputId": "2bc8a6a8-ae8a-4dbc-c88b-31358e879179"
      },
      "execution_count": 20,
      "outputs": [
        {
          "output_type": "stream",
          "name": "stdout",
          "text": [
            "Please enter a number: 6\n",
            "[2, 3, 5]\n"
          ]
        }
      ]
    },
    {
      "cell_type": "markdown",
      "source": [
        "**5- Functions & Data Types: Write a Python function merge_lists(list1, list2) that merges two sorted lists into a single sorted list without using any built-in sorting functions. Explain the logic behind your approach.**\n"
      ],
      "metadata": {
        "id": "bzicG3VA9R9k"
      }
    },
    {
      "cell_type": "code",
      "source": [
        "def merge_lists(list1, list2):\n",
        "  \"\"\"Merges two sorted lists into a single sorted list.\n",
        "\n",
        "  Args:\n",
        "    list1: The first sorted list.\n",
        "    list2: The second sorted list.\n",
        "\n",
        "  Returns:\n",
        "    A new sorted list containing elements from both input lists.\n",
        "  \"\"\"\n",
        "\n",
        "  merged_list = []\n",
        "  i, j = 0, 0\n",
        "\n",
        "  while i < len(list1) and j < len(list2):\n",
        "    if list1[i] < list2[j]:\n",
        "      merged_list.append(list1[i])\n",
        "      i += 1\n",
        "    else:\n",
        "      merged_list.append(list2[j])\n",
        "      j += 1\n",
        "\n",
        "  # Append remaining elements from the longer list\n",
        "  merged_list.extend(list1[i:])\n",
        "  merged_list.extend(list2[j:])\n",
        "\n",
        "  return merged_list\n",
        "\n",
        "# Example usage:\n",
        "list1 = [1, 3, 5, 7]\n",
        "list2 = [2, 4, 6, 8]\n",
        "result = merge_lists(list1, list2)\n",
        "print(result)  # Output: [1, 2, 3, 4, 5, 6, 7, 8]"
      ],
      "metadata": {
        "colab": {
          "base_uri": "https://localhost:8080/"
        },
        "id": "xPJ7Iq8I9T4f",
        "outputId": "b95fa703-9f4e-4a81-af68-783f7ebb73b0"
      },
      "execution_count": 14,
      "outputs": [
        {
          "output_type": "stream",
          "name": "stdout",
          "text": [
            "[1, 2, 3, 4, 5, 6, 7, 8]\n"
          ]
        }
      ]
    },
    {
      "cell_type": "markdown",
      "source": [
        "**6- Loops: Given a list of tuples where each tuple contains a student's name and their score, write a program to calculate the average score of the class using a loop. Use a for loop and the len() function.**\n"
      ],
      "metadata": {
        "id": "frvhECaO9joa"
      }
    },
    {
      "cell_type": "code",
      "source": [
        "\n",
        "def calculate_average_score(scores):\n",
        "  \"\"\"Calculates the average score of a class.\n",
        "\n",
        "  Args:\n",
        "    scores: A list of tuples, where each tuple contains a student's name and score.\n",
        "\n",
        "  Returns:\n",
        "    The average score of the class.\n",
        "  \"\"\"\n",
        "\n",
        "  total_score = 0\n",
        "  num_students = len(scores)\n",
        "\n",
        "  for student_score in scores:\n",
        "    total_score += student_score[1]\n",
        "\n",
        "  average_score = total_score / num_students\n",
        "  return average_score\n",
        "\n",
        "# Example usage:\n",
        "student_scores = [(\"Ali\", 95), (\"Badar\", 88), (\"Chaudhary\", 92), (\"Dawood\", 98)]\n",
        "average = calculate_average_score(student_scores)\n",
        "print(\"Average score:\", average)"
      ],
      "metadata": {
        "colab": {
          "base_uri": "https://localhost:8080/"
        },
        "id": "SI9gy6AL9lwI",
        "outputId": "e1a63049-5334-4992-ce4b-383a2d58ed37"
      },
      "execution_count": 15,
      "outputs": [
        {
          "output_type": "stream",
          "name": "stdout",
          "text": [
            "Average score: 93.25\n"
          ]
        }
      ]
    },
    {
      "cell_type": "markdown",
      "source": [
        "**7- Loops & Strings: Write a Python function count_vowels(s) that takes a string s as input and returns the number of vowels in the string. Use a for loop to iterate through each character in the string.**"
      ],
      "metadata": {
        "id": "5USbkVb099Ak"
      }
    },
    {
      "cell_type": "code",
      "source": [
        "def count_vowels(s):\n",
        "  \"\"\"Counts the number of vowels in a given string.\n",
        "\n",
        "  Args:\n",
        "    s: The input string.\n",
        "\n",
        "  Returns:\n",
        "    The number of vowels in the string.\n",
        "  \"\"\"\n",
        "\n",
        "  vowel_count = 0\n",
        "  vowels = \"aeiouAEIOU\"\n",
        "\n",
        "  for char in s:\n",
        "    if char in vowels:\n",
        "      vowel_count += 1\n",
        "\n",
        "  return vowel_count\n",
        "\n",
        "# Example usage:\n",
        "string = \"Hello, World!\"\n",
        "vowel_count = count_vowels(string)\n",
        "print(\"Number of vowels:\", vowel_count)"
      ],
      "metadata": {
        "colab": {
          "base_uri": "https://localhost:8080/"
        },
        "id": "F_VI3EDF9_s8",
        "outputId": "9e48d898-c277-49a5-891d-bb4e0c1cf1fd"
      },
      "execution_count": 16,
      "outputs": [
        {
          "output_type": "stream",
          "name": "stdout",
          "text": [
            "Number of vowels: 3\n"
          ]
        }
      ]
    },
    {
      "cell_type": "markdown",
      "source": [
        "**8- Data Types & Functions: Write a function that takes a list of numbers and returns a dictionary where the keys are the numbers and the values are the squares of those numbers. Use a loop to generate the dictionary.**\n"
      ],
      "metadata": {
        "id": "edLWSWFMOEpT"
      }
    },
    {
      "cell_type": "code",
      "source": [
        "def square_dict(numbers):\n",
        "  \"\"\"Creates a dictionary with numbers as keys and their squares as values.\n",
        "\n",
        "  Args:\n",
        "    numbers: A list of numbers.\n",
        "\n",
        "  Returns:\n",
        "    A dictionary where keys are numbers and values are their squares.\n",
        "  \"\"\"\n",
        "\n",
        "  squares = {}\n",
        "  for num in numbers:\n",
        "    squares[num] = num ** 2\n",
        "  return squares\n",
        "\n",
        "# Example usage:\n",
        "my_list = [1, 2, 3, 4, 5]\n",
        "result = square_dict(my_list)\n",
        "print(result)  # Output: {1: 1, 2: 4, 3: 9, 4: 16, 5: 25}"
      ],
      "metadata": {
        "colab": {
          "base_uri": "https://localhost:8080/"
        },
        "id": "kVbwA8StOF6h",
        "outputId": "39c2fa9e-95b4-41d7-9ce1-36fca00296b9"
      },
      "execution_count": 21,
      "outputs": [
        {
          "output_type": "stream",
          "name": "stdout",
          "text": [
            "{1: 1, 2: 4, 3: 9, 4: 16, 5: 25}\n"
          ]
        }
      ]
    },
    {
      "cell_type": "markdown",
      "source": [
        "**9- Functions & Loops: Write a Python function that takes a list of words and returns the longest word in the list. If two or more words are of the same length, return the first one that appears.**\n"
      ],
      "metadata": {
        "id": "6XEZEMZBOS77"
      }
    },
    {
      "cell_type": "code",
      "source": [
        "def find_longest_word(words):\n",
        "  \"\"\"Finds the longest word in a list of words.\n",
        "\n",
        "  Args:\n",
        "    words: A list of words.\n",
        "\n",
        "  Returns:\n",
        "    The longest word in the list.\n",
        "  \"\"\"\n",
        "\n",
        "  longest_word = \"\"\n",
        "  max_length = 0\n",
        "\n",
        "  for word in words:\n",
        "    if len(word) > max_length:\n",
        "      max_length = len(word)\n",
        "      longest_word = word\n",
        "\n",
        "  return longest_word\n",
        "\n",
        "# Example usage:\n",
        "word_list = [\"apple\", \"banana\", \"cherry\", \"date\", \"elderberry\"]\n",
        "longest_word = find_longest_word(word_list)\n",
        "print(longest_word)  # Output: \"elderberry\""
      ],
      "metadata": {
        "colab": {
          "base_uri": "https://localhost:8080/"
        },
        "id": "_j8b8Q8pOUGI",
        "outputId": "1cf48a60-1cb5-4e3b-fa01-50909b88fedb"
      },
      "execution_count": 22,
      "outputs": [
        {
          "output_type": "stream",
          "name": "stdout",
          "text": [
            "elderberry\n"
          ]
        }
      ]
    },
    {
      "cell_type": "markdown",
      "source": [
        "**10- Loops & Data Types: Write a Python program that takes a string of words separated by spaces and counts the frequency of each word using a dictionary. The program should return the dictionary of word counts.**"
      ],
      "metadata": {
        "id": "Tgg1e4T1Ochw"
      }
    },
    {
      "cell_type": "code",
      "source": [
        "def word_frequency(text):\n",
        "  \"\"\"Counts the frequency of each word in a given text.\n",
        "\n",
        "  Args:\n",
        "    text: The input text.\n",
        "\n",
        "  Returns:\n",
        "    A dictionary where keys are words and values are their frequencies.\n",
        "  \"\"\"\n",
        "\n",
        "  words = text.split()\n",
        "  word_counts = {}\n",
        "\n",
        "  for word in words:\n",
        "    if word in word_counts:\n",
        "      word_counts[word] += 1\n",
        "    else:\n",
        "      word_counts[word] = 1\n",
        "\n",
        "  return word_counts\n",
        "\n",
        "# Example usage:\n",
        "text = \"This is a test. This is a simple test.\"\n",
        "word_counts = word_frequency(text)\n",
        "print(word_counts)"
      ],
      "metadata": {
        "colab": {
          "base_uri": "https://localhost:8080/"
        },
        "id": "zgDf439cOe1k",
        "outputId": "9937e90d-fbc6-4dd6-c6ca-15accd9a71d5"
      },
      "execution_count": 23,
      "outputs": [
        {
          "output_type": "stream",
          "name": "stdout",
          "text": [
            "{'This': 2, 'is': 2, 'a': 2, 'test.': 2, 'simple': 1}\n"
          ]
        }
      ]
    }
  ]
}