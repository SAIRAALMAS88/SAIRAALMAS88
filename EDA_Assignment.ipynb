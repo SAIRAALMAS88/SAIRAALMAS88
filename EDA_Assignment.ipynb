{
  "nbformat": 4,
  "nbformat_minor": 0,
  "metadata": {
    "colab": {
      "provenance": [],
      "include_colab_link": true
    },
    "kernelspec": {
      "name": "python3",
      "display_name": "Python 3"
    },
    "language_info": {
      "name": "python"
    }
  },
  "cells": [
    {
      "cell_type": "markdown",
      "metadata": {
        "id": "view-in-github",
        "colab_type": "text"
      },
      "source": [
        "<a href=\"https://colab.research.google.com/github/SAIRAALMAS88/SAIRAALMAS88/blob/main/EDA_Assignment.ipynb\" target=\"_parent\"><img src=\"https://colab.research.google.com/assets/colab-badge.svg\" alt=\"Open In Colab\"/></a>"
      ]
    },
    {
      "cell_type": "markdown",
      "source": [
        "# **EDA of E-commerce Customer Behavior**"
      ],
      "metadata": {
        "id": "sGi7IOwKLi6x"
      }
    },
    {
      "cell_type": "markdown",
      "source": [
        "Conduct an exploratory data analysis (EDA) on the given E-commerce Customer Behavior. Focus on customer behavior, purchase trends, and satisfaction levels using Python libraries: Pandas, Numpy, Matplotlib, and Seaborn."
      ],
      "metadata": {
        "id": "bssKlApPLshq"
      }
    },
    {
      "cell_type": "markdown",
      "source": [
        "## Dataset Overview:\n",
        "\n",
        "- **CustomerID:** Unique identifier for each customer.\n",
        "- **Gender:** Gender of the customer.\n",
        "- **Age:** Age of the customer.\n",
        "- **City:** City where the customer resides.\n",
        "- **Membership Type:** Type of customer membership (Gold, Silver, Bronze).\n",
        "- **Total Spend:** Total amount spent by the customer.\n",
        "- **Items Purchased:** Number of items purchased.\n",
        "- **Average Rating:** Average rating given by the customer.\n",
        "- **Discount Applied:** Whether a discount was applied (True/False).\n",
        "- **Days Since Last Purchase:** Number of days since the customer’s last purchase.\n",
        "- **Satisfaction Level:** Customer's satisfaction level (Satisfied, Neutral, Unsatisfied)."
      ],
      "metadata": {
        "id": "4vzKNF3xL0wn"
      }
    },
    {
      "cell_type": "markdown",
      "source": [
        "## **Task**"
      ],
      "metadata": {
        "id": "0wpzanktMR1v"
      }
    },
    {
      "cell_type": "markdown",
      "source": [
        "### **Data Exploration**\n",
        "\n",
        "Explore the dataset to get a general understanding of the data.\n",
        "\n",
        "- Load the dataset using Pandas.\n",
        "- Print the first 10 rows of the dataset.\n",
        "- Display Statistical Summary. (show the summary for object data columns separately)\n",
        "- Get the information, data types of all columns and the shape of the dataset (number of rows and columns).\n",
        "- Display only Data types\n",
        "\n",
        "(5 points)"
      ],
      "metadata": {
        "id": "hQygnkYFMObs"
      }
    },
    {
      "cell_type": "code",
      "source": [
        "# IPORTING PANDAS LIBRARY\n",
        "import pandas as pd"
      ],
      "metadata": {
        "id": "iNT4eUmKOPuv"
      },
      "execution_count": 49,
      "outputs": []
    },
    {
      "cell_type": "code",
      "source": [
        "# LOADING THE DATASET\n",
        "df=pd.read_csv(\"/content/E-commerce Customer Behavior - E-commerce Customer Behavior (2).csv\")"
      ],
      "metadata": {
        "id": "NDhNhKEDNwh9"
      },
      "execution_count": 50,
      "outputs": []
    },
    {
      "cell_type": "code",
      "source": [
        "# Print the first 10 rows\n",
        "print(df.head(10))\n"
      ],
      "metadata": {
        "id": "WKEzGzzZmuGX",
        "colab": {
          "base_uri": "https://localhost:8080/"
        },
        "outputId": "d36f89e8-531d-4062-ab2a-47f7acf55987"
      },
      "execution_count": 51,
      "outputs": [
        {
          "output_type": "stream",
          "name": "stdout",
          "text": [
            "   Customer ID  Gender  Age           City Membership Type  Total Spend  \\\n",
            "0          101  Female   29       New York            Gold      1120.20   \n",
            "1          102    Male   34    Los Angeles          Silver       780.50   \n",
            "2          103  Female   43        Chicago          Bronze       510.75   \n",
            "3          104    Male   30  San Francisco            Gold      1480.30   \n",
            "4          105    Male   27          Miami          Silver       720.40   \n",
            "5          106  Female   37        Houston          Bronze       440.80   \n",
            "6          107  Female   31       New York            Gold      1150.60   \n",
            "7          108    Male   35    Los Angeles          Silver       800.90   \n",
            "8          109  Female   41        Chicago          Bronze       495.25   \n",
            "9          110    Male   28  San Francisco            Gold      1520.10   \n",
            "\n",
            "   Items Purchased  Average Rating  Discount Applied  \\\n",
            "0               14             4.6              True   \n",
            "1               11             4.1             False   \n",
            "2                9             3.4              True   \n",
            "3               19             4.7             False   \n",
            "4               13             4.0              True   \n",
            "5                8             3.1             False   \n",
            "6               15             4.5              True   \n",
            "7               12             4.2             False   \n",
            "8               10             3.6              True   \n",
            "9               21             4.8             False   \n",
            "\n",
            "   Days Since Last Purchase Satisfaction Level  \n",
            "0                        25          Satisfied  \n",
            "1                        18            Neutral  \n",
            "2                        42        Unsatisfied  \n",
            "3                        12          Satisfied  \n",
            "4                        55        Unsatisfied  \n",
            "5                        22            Neutral  \n",
            "6                        28          Satisfied  \n",
            "7                        14            Neutral  \n",
            "8                        40        Unsatisfied  \n",
            "9                         9          Satisfied  \n"
          ]
        }
      ]
    },
    {
      "cell_type": "code",
      "source": [
        "# Display Statistical Summary for numerical columns\n",
        "print(df.describe())\n"
      ],
      "metadata": {
        "id": "exqpF0fZmtyf",
        "colab": {
          "base_uri": "https://localhost:8080/"
        },
        "outputId": "eb7eb14b-986e-4adf-b703-695b494e52f9"
      },
      "execution_count": 52,
      "outputs": [
        {
          "output_type": "stream",
          "name": "stdout",
          "text": [
            "       Customer ID         Age  Total Spend  Items Purchased  Average Rating  \\\n",
            "count   350.000000  350.000000   350.000000       350.000000      350.000000   \n",
            "mean    275.500000   33.597143   845.381714        12.600000        4.019143   \n",
            "std     101.180532    4.870882   362.058695         4.155984        0.580539   \n",
            "min     101.000000   26.000000   410.800000         7.000000        3.000000   \n",
            "25%     188.250000   30.000000   502.000000         9.000000        3.500000   \n",
            "50%     275.500000   32.500000   775.200000        12.000000        4.100000   \n",
            "75%     362.750000   37.000000  1160.600000        15.000000        4.500000   \n",
            "max     450.000000   43.000000  1520.100000        21.000000        4.900000   \n",
            "\n",
            "       Days Since Last Purchase  \n",
            "count                350.000000  \n",
            "mean                  26.588571  \n",
            "std                   13.440813  \n",
            "min                    9.000000  \n",
            "25%                   15.000000  \n",
            "50%                   23.000000  \n",
            "75%                   38.000000  \n",
            "max                   63.000000  \n"
          ]
        }
      ]
    },
    {
      "cell_type": "code",
      "source": [
        "# Display Statistical Summary for object (categorical) columns\n",
        "print(df.describe(include=['object']))\n"
      ],
      "metadata": {
        "id": "cWu5ri4NmtoL",
        "colab": {
          "base_uri": "https://localhost:8080/"
        },
        "outputId": "4c041b80-772f-4fd2-c69e-844f9a7d321c"
      },
      "execution_count": 53,
      "outputs": [
        {
          "output_type": "stream",
          "name": "stdout",
          "text": [
            "        Gender      City Membership Type Satisfaction Level\n",
            "count      350       350             350                348\n",
            "unique       2         6               3                  3\n",
            "top     Female  New York            Gold          Satisfied\n",
            "freq       175        59             117                125\n"
          ]
        }
      ]
    },
    {
      "cell_type": "code",
      "source": [
        "# Get information about the dataset\n",
        "print(df.info())\n"
      ],
      "metadata": {
        "colab": {
          "base_uri": "https://localhost:8080/"
        },
        "id": "2egF9tdSwJsQ",
        "outputId": "7b5f6284-f566-45a4-c462-cb696516d624"
      },
      "execution_count": 54,
      "outputs": [
        {
          "output_type": "stream",
          "name": "stdout",
          "text": [
            "<class 'pandas.core.frame.DataFrame'>\n",
            "RangeIndex: 350 entries, 0 to 349\n",
            "Data columns (total 11 columns):\n",
            " #   Column                    Non-Null Count  Dtype  \n",
            "---  ------                    --------------  -----  \n",
            " 0   Customer ID               350 non-null    int64  \n",
            " 1   Gender                    350 non-null    object \n",
            " 2   Age                       350 non-null    int64  \n",
            " 3   City                      350 non-null    object \n",
            " 4   Membership Type           350 non-null    object \n",
            " 5   Total Spend               350 non-null    float64\n",
            " 6   Items Purchased           350 non-null    int64  \n",
            " 7   Average Rating            350 non-null    float64\n",
            " 8   Discount Applied          350 non-null    bool   \n",
            " 9   Days Since Last Purchase  350 non-null    int64  \n",
            " 10  Satisfaction Level        348 non-null    object \n",
            "dtypes: bool(1), float64(2), int64(4), object(4)\n",
            "memory usage: 27.8+ KB\n",
            "None\n"
          ]
        }
      ]
    },
    {
      "cell_type": "code",
      "source": [
        "# Display Data Types\n",
        "print(df.dtypes)"
      ],
      "metadata": {
        "colab": {
          "base_uri": "https://localhost:8080/"
        },
        "id": "CDJVclQDwRH6",
        "outputId": "c1be2bf7-70ab-4bea-c033-c30aeedb240b"
      },
      "execution_count": 55,
      "outputs": [
        {
          "output_type": "stream",
          "name": "stdout",
          "text": [
            "Customer ID                   int64\n",
            "Gender                       object\n",
            "Age                           int64\n",
            "City                         object\n",
            "Membership Type              object\n",
            "Total Spend                 float64\n",
            "Items Purchased               int64\n",
            "Average Rating              float64\n",
            "Discount Applied               bool\n",
            "Days Since Last Purchase      int64\n",
            "Satisfaction Level           object\n",
            "dtype: object\n"
          ]
        }
      ]
    },
    {
      "cell_type": "markdown",
      "source": [
        "### **Handling Missing Values**\n",
        "Identify and deal with any missing data.\n",
        "\n",
        "- Check for missing values in the dataset.\n",
        "- If missing values exist, Show the rows with missing values.\n",
        "- If missing values exist, Decide whether to fill them (using the mean, median, etc.) or drop them and justify your choice.\n",
        "\n",
        "\n",
        "(3 Points)"
      ],
      "metadata": {
        "id": "xWc9VhTpNzjg"
      }
    },
    {
      "cell_type": "code",
      "source": [
        "# As DataFrame named 'df'\n",
        "missing_values = df.isnull().sum()\n",
        "print(missing_values)"
      ],
      "metadata": {
        "id": "Mai5aWWNmvF4",
        "colab": {
          "base_uri": "https://localhost:8080/"
        },
        "outputId": "c863781c-4c8a-41eb-bba4-8790bc19c4a5"
      },
      "execution_count": 56,
      "outputs": [
        {
          "output_type": "stream",
          "name": "stdout",
          "text": [
            "Customer ID                 0\n",
            "Gender                      0\n",
            "Age                         0\n",
            "City                        0\n",
            "Membership Type             0\n",
            "Total Spend                 0\n",
            "Items Purchased             0\n",
            "Average Rating              0\n",
            "Discount Applied            0\n",
            "Days Since Last Purchase    0\n",
            "Satisfaction Level          2\n",
            "dtype: int64\n"
          ]
        }
      ]
    },
    {
      "cell_type": "code",
      "source": [
        "rows_with_missing_values = df[df.isnull().any(axis=1)]\n",
        "print(rows_with_missing_values)"
      ],
      "metadata": {
        "id": "gs6wHwz-mu97",
        "colab": {
          "base_uri": "https://localhost:8080/"
        },
        "outputId": "c0b3b546-3ec5-4941-8458-218b25fdf9fc"
      },
      "execution_count": 57,
      "outputs": [
        {
          "output_type": "stream",
          "name": "stdout",
          "text": [
            "     Customer ID  Gender  Age     City Membership Type  Total Spend  \\\n",
            "71           172  Female   37  Houston          Bronze        420.8   \n",
            "143          244  Female   37  Houston          Bronze        430.8   \n",
            "\n",
            "     Items Purchased  Average Rating  Discount Applied  \\\n",
            "71                 7             3.1             False   \n",
            "143                7             3.4             False   \n",
            "\n",
            "     Days Since Last Purchase Satisfaction Level  \n",
            "71                         21                NaN  \n",
            "143                        23                NaN  \n"
          ]
        }
      ]
    },
    {
      "cell_type": "markdown",
      "source": [
        "### **Duplicates**\n",
        "\n",
        "- Check for duplicate records in the dataset. If duplicates exist, remove them.\n",
        "\n",
        "(1 Point)"
      ],
      "metadata": {
        "id": "q6RS80jxQm64"
      }
    },
    {
      "cell_type": "code",
      "source": [
        "# Identify duplicate rows based on all columns\n",
        "duplicates = df.duplicated()\n"
      ],
      "metadata": {
        "id": "md2aGlB2mxRO"
      },
      "execution_count": 58,
      "outputs": []
    },
    {
      "cell_type": "code",
      "source": [
        "# Display the number of duplicate rows\n",
        "print(\"Number of duplicate rows:\", duplicates.sum())"
      ],
      "metadata": {
        "colab": {
          "base_uri": "https://localhost:8080/"
        },
        "id": "XnDSKte1yIfB",
        "outputId": "b7bea60d-dbf1-4401-e2aa-da3315dda290"
      },
      "execution_count": 59,
      "outputs": [
        {
          "output_type": "stream",
          "name": "stdout",
          "text": [
            "Number of duplicate rows: 0\n"
          ]
        }
      ]
    },
    {
      "cell_type": "markdown",
      "source": [
        "### **Conditional Filtering**\n",
        "Filter data based on specific conditions.\n",
        "\n",
        "- How many customers have the Gold membership type?\n",
        "- Filter and display customers who spent more than $1,000.\n",
        "- Identify customers from New York who applied a discount.\n",
        "\n",
        "( 3 points)"
      ],
      "metadata": {
        "id": "Q6O9vfyOTx28"
      }
    },
    {
      "cell_type": "code",
      "source": [
        "import pandas as pd\n",
        "import matplotlib.pyplot as plt\n",
        "import seaborn as sns"
      ],
      "metadata": {
        "id": "AUq4qp7ESE7p"
      },
      "execution_count": 60,
      "outputs": []
    },
    {
      "cell_type": "code",
      "source": [
        "# Filter for Gold members and count them\n",
        "num_gold_members = df[df['Membership Type'] == 'Gold']\n",
        "print(\"Number of Gold members:\", num_gold_members)"
      ],
      "metadata": {
        "colab": {
          "base_uri": "https://localhost:8080/"
        },
        "id": "vQJJbsdQSMTz",
        "outputId": "7eea4cd7-d314-4016-9ef3-dbc522eca59a"
      },
      "execution_count": 61,
      "outputs": [
        {
          "output_type": "stream",
          "name": "stdout",
          "text": [
            "Number of Gold members:      Customer ID  Gender  Age           City Membership Type  Total Spend  \\\n",
            "0            101  Female   29       New York            Gold       1120.2   \n",
            "3            104    Male   30  San Francisco            Gold       1480.3   \n",
            "6            107  Female   31       New York            Gold       1150.6   \n",
            "9            110    Male   28  San Francisco            Gold       1520.1   \n",
            "12           113  Female   30       New York            Gold       1200.8   \n",
            "..           ...     ...  ...            ...             ...          ...   \n",
            "335          436  Female   30       New York            Gold       1200.8   \n",
            "338          439    Male   30  San Francisco            Gold       1460.5   \n",
            "341          442  Female   31       New York            Gold       1140.6   \n",
            "344          445    Male   28  San Francisco            Gold       1480.1   \n",
            "347          448  Female   30       New York            Gold       1190.8   \n",
            "\n",
            "     Items Purchased  Average Rating  Discount Applied  \\\n",
            "0                 14             4.6              True   \n",
            "3                 19             4.7             False   \n",
            "6                 15             4.5              True   \n",
            "9                 21             4.8             False   \n",
            "12                16             4.3              True   \n",
            "..               ...             ...               ...   \n",
            "335               16             4.7              True   \n",
            "338               20             4.8             False   \n",
            "341               15             4.5              True   \n",
            "344               21             4.9             False   \n",
            "347               16             4.5              True   \n",
            "\n",
            "     Days Since Last Purchase Satisfaction Level  \n",
            "0                          25          Satisfied  \n",
            "3                          12          Satisfied  \n",
            "6                          28          Satisfied  \n",
            "9                           9          Satisfied  \n",
            "12                         21          Satisfied  \n",
            "..                        ...                ...  \n",
            "335                        28          Satisfied  \n",
            "338                        15          Satisfied  \n",
            "341                        36          Satisfied  \n",
            "344                        13          Satisfied  \n",
            "347                        28          Satisfied  \n",
            "\n",
            "[117 rows x 11 columns]\n"
          ]
        }
      ]
    },
    {
      "cell_type": "code",
      "source": [
        "high_spenders = df[df['Total Spend'] > 1000]\n",
        "print(high_spenders)"
      ],
      "metadata": {
        "id": "yWLC2WkamyMB",
        "colab": {
          "base_uri": "https://localhost:8080/"
        },
        "outputId": "e5937fa4-0eb1-49a5-e66f-dd10311cd5ee"
      },
      "execution_count": 63,
      "outputs": [
        {
          "output_type": "stream",
          "name": "stdout",
          "text": [
            "     Customer ID  Gender  Age           City Membership Type  Total Spend  \\\n",
            "0            101  Female   29       New York            Gold       1120.2   \n",
            "3            104    Male   30  San Francisco            Gold       1480.3   \n",
            "6            107  Female   31       New York            Gold       1150.6   \n",
            "9            110    Male   28  San Francisco            Gold       1520.1   \n",
            "12           113  Female   30       New York            Gold       1200.8   \n",
            "..           ...     ...  ...            ...             ...          ...   \n",
            "335          436  Female   30       New York            Gold       1200.8   \n",
            "338          439    Male   30  San Francisco            Gold       1460.5   \n",
            "341          442  Female   31       New York            Gold       1140.6   \n",
            "344          445    Male   28  San Francisco            Gold       1480.1   \n",
            "347          448  Female   30       New York            Gold       1190.8   \n",
            "\n",
            "     Items Purchased  Average Rating  Discount Applied  \\\n",
            "0                 14             4.6              True   \n",
            "3                 19             4.7             False   \n",
            "6                 15             4.5              True   \n",
            "9                 21             4.8             False   \n",
            "12                16             4.3              True   \n",
            "..               ...             ...               ...   \n",
            "335               16             4.7              True   \n",
            "338               20             4.8             False   \n",
            "341               15             4.5              True   \n",
            "344               21             4.9             False   \n",
            "347               16             4.5              True   \n",
            "\n",
            "     Days Since Last Purchase Satisfaction Level  \n",
            "0                          25          Satisfied  \n",
            "3                          12          Satisfied  \n",
            "6                          28          Satisfied  \n",
            "9                           9          Satisfied  \n",
            "12                         21          Satisfied  \n",
            "..                        ...                ...  \n",
            "335                        28          Satisfied  \n",
            "338                        15          Satisfied  \n",
            "341                        36          Satisfied  \n",
            "344                        13          Satisfied  \n",
            "347                        28          Satisfied  \n",
            "\n",
            "[117 rows x 11 columns]\n"
          ]
        }
      ]
    },
    {
      "cell_type": "code",
      "source": [
        "ny_customers_with_discount = df[(df['City'] == 'New York') & (df['Discount Applied'] == True)]\n",
        "print(ny_customers_with_discount)"
      ],
      "metadata": {
        "id": "nXxFZ7oGmyGG",
        "colab": {
          "base_uri": "https://localhost:8080/"
        },
        "outputId": "6837cfc6-9551-4409-eddb-7e6ddec06ccb"
      },
      "execution_count": 66,
      "outputs": [
        {
          "output_type": "stream",
          "name": "stdout",
          "text": [
            "     Customer ID  Gender  Age      City Membership Type  Total Spend  \\\n",
            "0            101  Female   29  New York            Gold       1120.2   \n",
            "6            107  Female   31  New York            Gold       1150.6   \n",
            "12           113  Female   30  New York            Gold       1200.8   \n",
            "18           119  Female   32  New York            Gold       1170.3   \n",
            "24           125  Female   31  New York            Gold       1140.6   \n",
            "30           131  Female   30  New York            Gold       1190.8   \n",
            "36           137  Female   32  New York            Gold       1160.3   \n",
            "42           143  Female   31  New York            Gold       1130.6   \n",
            "48           149  Female   30  New York            Gold       1180.8   \n",
            "54           155  Female   31  New York            Gold       1140.6   \n",
            "60           161  Female   30  New York            Gold       1190.8   \n",
            "66           167  Female   32  New York            Gold       1160.3   \n",
            "72           173  Female   31  New York            Gold       1130.6   \n",
            "78           179  Female   30  New York            Gold       1180.8   \n",
            "84           185  Female   31  New York            Gold       1140.6   \n",
            "90           191  Female   30  New York            Gold       1190.8   \n",
            "96           197  Female   32  New York            Gold       1160.3   \n",
            "102          203  Female   31  New York            Gold       1130.6   \n",
            "108          209  Female   30  New York            Gold       1180.8   \n",
            "114          215  Female   31  New York            Gold       1140.6   \n",
            "120          221  Female   30  New York            Gold       1190.8   \n",
            "126          227  Female   32  New York            Gold       1160.3   \n",
            "132          233  Female   31  New York            Gold       1130.6   \n",
            "138          239  Female   30  New York            Gold       1180.8   \n",
            "144          245  Female   31  New York            Gold       1130.6   \n",
            "150          251  Female   30  New York            Gold       1180.8   \n",
            "156          257  Female   31  New York            Gold       1140.6   \n",
            "162          263  Female   30  New York            Gold       1190.8   \n",
            "168          269  Female   32  New York            Gold       1160.3   \n",
            "174          275  Female   31  New York            Gold       1140.6   \n",
            "180          281  Female   30  New York            Gold       1180.8   \n",
            "186          287  Female   31  New York            Gold       1130.6   \n",
            "192          293  Female   30  New York            Gold       1190.8   \n",
            "198          299  Female   32  New York            Gold       1160.3   \n",
            "203          304    Male   31  New York            Gold       1210.6   \n",
            "209          310  Female   32  New York            Gold       1170.3   \n",
            "215          316  Female   31  New York            Gold       1130.6   \n",
            "221          322  Female   30  New York            Gold       1180.8   \n",
            "227          328  Female   31  New York            Gold       1140.6   \n",
            "233          334  Female   30  New York            Gold       1190.8   \n",
            "239          340  Female   32  New York            Gold       1160.3   \n",
            "245          346  Female   31  New York            Gold       1150.6   \n",
            "251          352  Female   30  New York            Gold       1170.8   \n",
            "257          358  Female   31  New York            Gold       1160.6   \n",
            "263          364  Female   30  New York            Gold       1200.8   \n",
            "269          370  Female   31  New York            Gold       1140.6   \n",
            "275          376  Female   30  New York            Gold       1190.8   \n",
            "281          382  Female   31  New York            Gold       1160.6   \n",
            "287          388  Female   30  New York            Gold       1200.8   \n",
            "293          394  Female   31  New York            Gold       1140.6   \n",
            "299          400  Female   30  New York            Gold       1190.8   \n",
            "305          406  Female   31  New York            Gold       1160.6   \n",
            "311          412  Female   30  New York            Gold       1200.8   \n",
            "317          418  Female   31  New York            Gold       1140.6   \n",
            "323          424  Female   30  New York            Gold       1190.8   \n",
            "329          430  Female   31  New York            Gold       1160.6   \n",
            "335          436  Female   30  New York            Gold       1200.8   \n",
            "341          442  Female   31  New York            Gold       1140.6   \n",
            "347          448  Female   30  New York            Gold       1190.8   \n",
            "\n",
            "     Items Purchased  Average Rating  Discount Applied  \\\n",
            "0                 14             4.6              True   \n",
            "6                 15             4.5              True   \n",
            "12                16             4.3              True   \n",
            "18                14             4.7              True   \n",
            "24                15             4.6              True   \n",
            "30                16             4.5              True   \n",
            "36                14             4.4              True   \n",
            "42                15             4.5              True   \n",
            "48                16             4.7              True   \n",
            "54                15             4.6              True   \n",
            "60                16             4.5              True   \n",
            "66                14             4.4              True   \n",
            "72                15             4.5              True   \n",
            "78                16             4.7              True   \n",
            "84                15             4.6              True   \n",
            "90                16             4.5              True   \n",
            "96                14             4.4              True   \n",
            "102               15             4.5              True   \n",
            "108               16             4.7              True   \n",
            "114               15             4.6              True   \n",
            "120               16             4.5              True   \n",
            "126               14             4.4              True   \n",
            "132               15             4.5              True   \n",
            "138               16             4.7              True   \n",
            "144               15             4.5              True   \n",
            "150               16             4.7              True   \n",
            "156               15             4.6              True   \n",
            "162               16             4.5              True   \n",
            "168               14             4.4              True   \n",
            "174               15             4.5              True   \n",
            "180               16             4.7              True   \n",
            "186               15             4.5              True   \n",
            "192               16             4.5              True   \n",
            "198               14             4.4              True   \n",
            "203               17             4.8              True   \n",
            "209               14             4.5              True   \n",
            "215               15             4.5              True   \n",
            "221               16             4.7              True   \n",
            "227               15             4.5              True   \n",
            "233               16             4.5              True   \n",
            "239               14             4.4              True   \n",
            "245               15             4.5              True   \n",
            "251               16             4.7              True   \n",
            "257               15             4.5              True   \n",
            "263               16             4.7              True   \n",
            "269               15             4.5              True   \n",
            "275               16             4.5              True   \n",
            "281               15             4.5              True   \n",
            "287               16             4.7              True   \n",
            "293               15             4.5              True   \n",
            "299               16             4.5              True   \n",
            "305               15             4.5              True   \n",
            "311               16             4.7              True   \n",
            "317               15             4.5              True   \n",
            "323               16             4.5              True   \n",
            "329               15             4.5              True   \n",
            "335               16             4.7              True   \n",
            "341               15             4.5              True   \n",
            "347               16             4.5              True   \n",
            "\n",
            "     Days Since Last Purchase Satisfaction Level  \n",
            "0                          25          Satisfied  \n",
            "6                          28          Satisfied  \n",
            "12                         21          Satisfied  \n",
            "18                         29          Satisfied  \n",
            "24                         27          Satisfied  \n",
            "30                         20          Satisfied  \n",
            "36                         22          Satisfied  \n",
            "42                         26          Satisfied  \n",
            "48                         19          Satisfied  \n",
            "54                         27          Satisfied  \n",
            "60                         20          Satisfied  \n",
            "66                         22          Satisfied  \n",
            "72                         26          Satisfied  \n",
            "78                         19          Satisfied  \n",
            "84                         27          Satisfied  \n",
            "90                         20          Satisfied  \n",
            "96                         22          Satisfied  \n",
            "102                        26          Satisfied  \n",
            "108                        19          Satisfied  \n",
            "114                        27          Satisfied  \n",
            "120                        20          Satisfied  \n",
            "126                        22          Satisfied  \n",
            "132                        26          Satisfied  \n",
            "138                        19          Satisfied  \n",
            "144                        26          Satisfied  \n",
            "150                        19          Satisfied  \n",
            "156                        27          Satisfied  \n",
            "162                        20          Satisfied  \n",
            "168                        22          Satisfied  \n",
            "174                        27          Satisfied  \n",
            "180                        19          Satisfied  \n",
            "186                        26          Satisfied  \n",
            "192                        20          Satisfied  \n",
            "198                        22          Satisfied  \n",
            "203                        18          Satisfied  \n",
            "209                        21          Satisfied  \n",
            "215                        26          Satisfied  \n",
            "221                        19          Satisfied  \n",
            "227                        27          Satisfied  \n",
            "233                        20          Satisfied  \n",
            "239                        22          Satisfied  \n",
            "245                        28          Satisfied  \n",
            "251                        21          Satisfied  \n",
            "257                        29          Satisfied  \n",
            "263                        22          Satisfied  \n",
            "269                        30          Satisfied  \n",
            "275                        23          Satisfied  \n",
            "281                        31          Satisfied  \n",
            "287                        24          Satisfied  \n",
            "293                        32          Satisfied  \n",
            "299                        25          Satisfied  \n",
            "305                        33          Satisfied  \n",
            "311                        25          Satisfied  \n",
            "317                        34          Satisfied  \n",
            "323                        27          Satisfied  \n",
            "329                        35          Satisfied  \n",
            "335                        28          Satisfied  \n",
            "341                        36          Satisfied  \n",
            "347                        28          Satisfied  \n"
          ]
        }
      ]
    },
    {
      "cell_type": "markdown",
      "source": [
        "### **Analysis**\n",
        "\n",
        "\n",
        " ( Hint: Group by, conditional filtering, Visualization )"
      ],
      "metadata": {
        "id": "DrhGPTmuhux0"
      }
    },
    {
      "cell_type": "markdown",
      "source": [
        "##### Which membership type shows the highest total spending in the dataset?  (2 Points)"
      ],
      "metadata": {
        "id": "sveHItR8fzCF"
      }
    },
    {
      "cell_type": "code",
      "source": [
        "# DataFrame named 'df' with columns 'Membership Type' and 'Total Spend'\n",
        "\n",
        "# Group the data by MembershipType and calculate the total spending for each group\n",
        "total_spending_by_membership = df.groupby('Membership Type')['Total Spend'].sum()\n"
      ],
      "metadata": {
        "id": "pAVygGE0m7S8"
      },
      "execution_count": 67,
      "outputs": []
    },
    {
      "cell_type": "code",
      "source": [
        "# Find the membership type with the highest total spending\n",
        "highest_spending_membership = total_spending_by_membership.idxmax()\n",
        "highest_spending_amount = total_spending_by_membership.max()\n",
        "\n",
        "print(f\"The membership type with the highest total spending is: {highest_spending_membership}\")\n",
        "print(f\"Total spending for this membership type: ${highest_spending_amount}\")"
      ],
      "metadata": {
        "id": "eyZIiC68m0ys",
        "colab": {
          "base_uri": "https://localhost:8080/"
        },
        "outputId": "f16b0f00-2d64-4e5d-d205-eea666cb4c5a"
      },
      "execution_count": 68,
      "outputs": [
        {
          "output_type": "stream",
          "name": "stdout",
          "text": [
            "The membership type with the highest total spending is: Gold\n",
            "Total spending for this membership type: $153403.9\n"
          ]
        }
      ]
    },
    {
      "cell_type": "markdown",
      "source": [
        "#### How does customer satisfaction impact total spending across different membership types? Which membership type spends more based on satisfaction levels? (2 Points)"
      ],
      "metadata": {
        "id": "XnUuk59JhepC"
      }
    },
    {
      "cell_type": "code",
      "source": [
        "# Group the data by MembershipType and CustomerSatisfaction, and calculate the total spending for each group\n",
        "grouped_data = df.groupby(['Membership Type', 'Satisfaction Level'])['Total Spend'].sum().reset_index()\n"
      ],
      "metadata": {
        "id": "pXms3wNnm6xa"
      },
      "execution_count": 69,
      "outputs": []
    },
    {
      "cell_type": "code",
      "source": [
        "# Visualize the relationship using a bar plot\n",
        "plt.figure(figsize=(10, 6))\n",
        "sns.barplot(x='Membership Type', y='Total Spend', hue='Satisfaction Level', data=grouped_data)\n",
        "plt.title('Total Spending by Membership Type and Customer Satisfaction')\n",
        "plt.xlabel('Membership Type')\n",
        "plt.ylabel('Total Spending')\n",
        "plt.show()"
      ],
      "metadata": {
        "id": "L7KPBxo0nEoP",
        "colab": {
          "base_uri": "https://localhost:8080/",
          "height": 564
        },
        "outputId": "b0dd8ffd-34f3-43b6-dba5-56295b4e3979"
      },
      "execution_count": 70,
      "outputs": [
        {
          "output_type": "display_data",
          "data": {
            "text/plain": [
              "<Figure size 1000x600 with 1 Axes>"
            ],
            "image/png": "[encoded data removed]"
          },
          "metadata": {}
        }
      ]
    },
    {
      "cell_type": "markdown",
      "source": [
        "#### What is the average rating for customers who applied discounts, and does the membership type have any effect on the ratings? (2 points)"
      ],
      "metadata": {
        "id": "qGpwlmFFhlc2"
      }
    },
    {
      "cell_type": "code",
      "source": [
        "# Calculate the average rating for customers who applied discounts\n",
        "average_rating_with_discount = df[df['Discount Applied'] == True]['Average Rating'].mean()\n",
        "print(\"Average rating for customers who applied discounts:\", average_rating_with_discount)\n"
      ],
      "metadata": {
        "id": "m4oUR3ixnFvT",
        "colab": {
          "base_uri": "https://localhost:8080/"
        },
        "outputId": "4253e94a-2ed7-4fbf-9389-3dc705afe5ba"
      },
      "execution_count": 71,
      "outputs": [
        {
          "output_type": "stream",
          "name": "stdout",
          "text": [
            "Average rating for customers who applied discounts: 3.979428571428572\n"
          ]
        }
      ]
    },
    {
      "cell_type": "code",
      "source": [
        "# Group the data by MembershipType and calculate the average rating for each group\n",
        "average_rating_by_membership = df.groupby('Membership Type')['Average Rating'].mean()\n",
        "print(\"Average rating by membership type:\")\n",
        "print(average_rating_by_membership)"
      ],
      "metadata": {
        "id": "vCIrlxdrnFnk",
        "colab": {
          "base_uri": "https://localhost:8080/"
        },
        "outputId": "5f0a397e-8ed2-4817-9601-f96339859adc"
      },
      "execution_count": 72,
      "outputs": [
        {
          "output_type": "stream",
          "name": "stdout",
          "text": [
            "Average rating by membership type:\n",
            "Membership Type\n",
            "Bronze    3.325000\n",
            "Gold      4.675214\n",
            "Silver    4.051282\n",
            "Name: Average Rating, dtype: float64\n"
          ]
        }
      ]
    },
    {
      "cell_type": "markdown",
      "source": [
        "#### Analyze the Impact of Days Since Last Purchase on Satisfaction Level (2 Points)"
      ],
      "metadata": {
        "id": "SDpolMEdlFwE"
      }
    },
    {
      "cell_type": "code",
      "source": [
        "# Group the data by Satisfaction Level and calculate the average DaysSinceLastPurchase for each group\n",
        "grouped_data = df.groupby('Satisfaction Level')['Days Since Last Purchase'].mean().reset_index()"
      ],
      "metadata": {
        "id": "BtEcrnVSnG6c"
      },
      "execution_count": 75,
      "outputs": []
    },
    {
      "cell_type": "code",
      "source": [
        "# Visualize the relationship using a bar plot\n",
        "plt.figure(figsize=(8, 6))\n",
        "sns.barplot(x='Satisfaction Level', y='Days Since Last Purchase', data=grouped_data)\n",
        "plt.title('Average Days Since Last Purchase by Customer Satisfaction')\n",
        "plt.xlabel('Customer Satisfaction')\n",
        "plt.ylabel('Average Days Since Last Purchase')\n",
        "plt.show()"
      ],
      "metadata": {
        "id": "NfYqxWZ8nG3C",
        "colab": {
          "base_uri": "https://localhost:8080/",
          "height": 564
        },
        "outputId": "7271d7bf-78db-4e73-f522-7536b688ef59"
      },
      "execution_count": 77,
      "outputs": [
        {
          "output_type": "display_data",
          "data": {
            "text/plain": [
              "<Figure size 800x600 with 1 Axes>"
            ],
            "image/png": "[encoded data removed]"
          },
          "metadata": {}
        }
      ]
    },
    {
      "cell_type": "code",
      "source": [
        "\n",
        "bins = [0, 30, 60, 90, 120, 180, 360, float('inf')]\n",
        "labels = ['0-30 days', '31-60 days', '61-90 days', '91-120 days', '121-180 days', '181-360 days', '360+ days']\n",
        "df['Days Since Last Purchase Binned'] = pd.cut(df['Days Since Last Purchase'], bins=bins, labels=labels)\n",
        "\n",
        "average_satisfaction = df.groupby('Days Since Last Purchase Binned')['Satisfaction Level'].value_counts(normalize=True).unstack().fillna(0)\n",
        "\n",
        "average_satisfaction"
      ],
      "metadata": {
        "id": "SkdKFTvold6L",
        "colab": {
          "base_uri": "https://localhost:8080/",
          "height": 355
        },
        "outputId": "099a1c55-2e2c-4e75-a430-c8d18a076c8b"
      },
      "execution_count": 78,
      "outputs": [
        {
          "output_type": "stream",
          "name": "stderr",
          "text": [
            "<ipython-input-78-3f8d47d20d31>:5: FutureWarning: The default of observed=False is deprecated and will be changed to True in a future version of pandas. Pass observed=False to retain current behavior or observed=True to adopt the future default and silence this warning.\n",
            "  average_satisfaction = df.groupby('Days Since Last Purchase Binned')['Satisfaction Level'].value_counts(normalize=True).unstack().fillna(0)\n"
          ]
        },
        {
          "output_type": "execute_result",
          "data": {
            "text/plain": [
              "Satisfaction Level                Neutral  Satisfied  Unsatisfied\n",
              "Days Since Last Purchase Binned                                  \n",
              "0-30 days                        0.468750   0.531250     0.000000\n",
              "31-60 days                       0.016529   0.049587     0.933884\n",
              "61-90 days                       0.000000   0.000000     1.000000\n",
              "91-120 days                      0.000000   0.000000     0.000000\n",
              "121-180 days                     0.000000   0.000000     0.000000\n",
              "181-360 days                     0.000000   0.000000     0.000000\n",
              "360+ days                        0.000000   0.000000     0.000000"
            ],
            "text/html": [
              "\n",
              "  <div id=\"df-596fcbca-9803-497f-837a-28f61228fe2b\" class=\"colab-df-container\">\n",
              "    <div>\n",
              "<style scoped>\n",
              "    .dataframe tbody tr th:only-of-type {\n",
              "        vertical-align: middle;\n",
              "    }\n",
              "\n",
              "    .dataframe tbody tr th {\n",
              "        vertical-align: top;\n",
              "    }\n",
              "\n",
              "    .dataframe thead th {\n",
              "        text-align: right;\n",
              "    }\n",
              "</style>\n",
              "<table border=\"1\" class=\"dataframe\">\n",
              "  <thead>\n",
              "    <tr style=\"text-align: right;\">\n",
              "      <th>Satisfaction Level</th>\n",
              "      <th>Neutral</th>\n",
              "      <th>Satisfied</th>\n",
              "      <th>Unsatisfied</th>\n",
              "    </tr>\n",
              "    <tr>\n",
              "      <th>Days Since Last Purchase Binned</th>\n",
              "      <th></th>\n",
              "      <th></th>\n",
              "      <th></th>\n",
              "    </tr>\n",
              "  </thead>\n",
              "  <tbody>\n",
              "    <tr>\n",
              "      <th>0-30 days</th>\n",
              "      <td>0.468750</td>\n",
              "      <td>0.531250</td>\n",
              "      <td>0.000000</td>\n",
              "    </tr>\n",
              "    <tr>\n",
              "      <th>31-60 days</th>\n",
              "      <td>0.016529</td>\n",
              "      <td>0.049587</td>\n",
              "      <td>0.933884</td>\n",
              "    </tr>\n",
              "    <tr>\n",
              "      <th>61-90 days</th>\n",
              "      <td>0.000000</td>\n",
              "      <td>0.000000</td>\n",
              "      <td>1.000000</td>\n",
              "    </tr>\n",
              "    <tr>\n",
              "      <th>91-120 days</th>\n",
              "      <td>0.000000</td>\n",
              "      <td>0.000000</td>\n",
              "      <td>0.000000</td>\n",
              "    </tr>\n",
              "    <tr>\n",
              "      <th>121-180 days</th>\n",
              "      <td>0.000000</td>\n",
              "      <td>0.000000</td>\n",
              "      <td>0.000000</td>\n",
              "    </tr>\n",
              "    <tr>\n",
              "      <th>181-360 days</th>\n",
              "      <td>0.000000</td>\n",
              "      <td>0.000000</td>\n",
              "      <td>0.000000</td>\n",
              "    </tr>\n",
              "    <tr>\n",
              "      <th>360+ days</th>\n",
              "      <td>0.000000</td>\n",
              "      <td>0.000000</td>\n",
              "      <td>0.000000</td>\n",
              "    </tr>\n",
              "  </tbody>\n",
              "</table>\n",
              "</div>\n",
              "    <div class=\"colab-df-buttons\">\n",
              "\n",
              "  <div class=\"colab-df-container\">\n",
              "    <button class=\"colab-df-convert\" onclick=\"convertToInteractive('df-596fcbca-9803-497f-837a-28f61228fe2b')\"\n",
              "            title=\"Convert this dataframe to an interactive table.\"\n",
              "            style=\"display:none;\">\n",
              "\n",
              "  <svg xmlns=\"http://www.w3.org/2000/svg\" height=\"24px\" viewBox=\"0 -960 960 960\">\n",
              "    <path d=\"M120-120v-720h720v720H120Zm60-500h600v-160H180v160Zm220 220h160v-160H400v160Zm0 220h160v-160H400v160ZM180-400h160v-160H180v160Zm440 0h160v-160H620v160ZM180-180h160v-160H180v160Zm440 0h160v-160H620v160Z\"/>\n",
              "  </svg>\n",
              "    </button>\n",
              "\n",
              "  <style>\n",
              "    .colab-df-container {\n",
              "      display:flex;\n",
              "      gap: 12px;\n",
              "    }\n",
              "\n",
              "    .colab-df-convert {\n",
              "      background-color: #E8F0FE;\n",
              "      border: none;\n",
              "      border-radius: 50%;\n",
              "      cursor: pointer;\n",
              "      display: none;\n",
              "      fill: #1967D2;\n",
              "      height: 32px;\n",
              "      padding: 0 0 0 0;\n",
              "      width: 32px;\n",
              "    }\n",
              "\n",
              "    .colab-df-convert:hover {\n",
              "      background-color: #E2EBFA;\n",
              "      box-shadow: 0px 1px 2px rgba(60, 64, 67, 0.3), 0px 1px 3px 1px rgba(60, 64, 67, 0.15);\n",
              "      fill: #174EA6;\n",
              "    }\n",
              "\n",
              "    .colab-df-buttons div {\n",
              "      margin-bottom: 4px;\n",
              "    }\n",
              "\n",
              "    [theme=dark] .colab-df-convert {\n",
              "      background-color: #3B4455;\n",
              "      fill: #D2E3FC;\n",
              "    }\n",
              "\n",
              "    [theme=dark] .colab-df-convert:hover {\n",
              "      background-color: #434B5C;\n",
              "      box-shadow: 0px 1px 3px 1px rgba(0, 0, 0, 0.15);\n",
              "      filter: drop-shadow(0px 1px 2px rgba(0, 0, 0, 0.3));\n",
              "      fill: #FFFFFF;\n",
              "    }\n",
              "  </style>\n",
              "\n",
              "    <script>\n",
              "      const buttonEl =\n",
              "        document.querySelector('#df-596fcbca-9803-497f-837a-28f61228fe2b button.colab-df-convert');\n",
              "      buttonEl.style.display =\n",
              "        google.colab.kernel.accessAllowed ? 'block' : 'none';\n",
              "\n",
              "      async function convertToInteractive(key) {\n",
              "        const element = document.querySelector('#df-596fcbca-9803-497f-837a-28f61228fe2b');\n",
              "        const dataTable =\n",
              "          await google.colab.kernel.invokeFunction('convertToInteractive',\n",
              "                                                    [key], {});\n",
              "        if (!dataTable) return;\n",
              "\n",
              "        const docLinkHtml = 'Like what you see? Visit the ' +\n",
              "          '<a target=\"_blank\" href=https://colab.research.google.com/notebooks/data_table.ipynb>data table notebook</a>'\n",
              "          + ' to learn more about interactive tables.';\n",
              "        element.innerHTML = '';\n",
              "        dataTable['output_type'] = 'display_data';\n",
              "        await google.colab.output.renderOutput(dataTable, element);\n",
              "        const docLink = document.createElement('div');\n",
              "        docLink.innerHTML = docLinkHtml;\n",
              "        element.appendChild(docLink);\n",
              "      }\n",
              "    </script>\n",
              "  </div>\n",
              "\n",
              "\n",
              "<div id=\"df-875db317-3673-49ee-ba10-975e5a9aefa6\">\n",
              "  <button class=\"colab-df-quickchart\" onclick=\"quickchart('df-875db317-3673-49ee-ba10-975e5a9aefa6')\"\n",
              "            title=\"Suggest charts\"\n",
              "            style=\"display:none;\">\n",
              "\n",
              "<svg xmlns=\"http://www.w3.org/2000/svg\" height=\"24px\"viewBox=\"0 0 24 24\"\n",
              "     width=\"24px\">\n",
              "    <g>\n",
              "        <path d=\"M19 3H5c-1.1 0-2 .9-2 2v14c0 1.1.9 2 2 2h14c1.1 0 2-.9 2-2V5c0-1.1-.9-2-2-2zM9 17H7v-7h2v7zm4 0h-2V7h2v10zm4 0h-2v-4h2v4z\"/>\n",
              "    </g>\n",
              "</svg>\n",
              "  </button>\n",
              "\n",
              "<style>\n",
              "  .colab-df-quickchart {\n",
              "      --bg-color: #E8F0FE;\n",
              "      --fill-color: #1967D2;\n",
              "      --hover-bg-color: #E2EBFA;\n",
              "      --hover-fill-color: #174EA6;\n",
              "      --disabled-fill-color: #AAA;\n",
              "      --disabled-bg-color: #DDD;\n",
              "  }\n",
              "\n",
              "  [theme=dark] .colab-df-quickchart {\n",
              "      --bg-color: #3B4455;\n",
              "      --fill-color: #D2E3FC;\n",
              "      --hover-bg-color: #434B5C;\n",
              "      --hover-fill-color: #FFFFFF;\n",
              "      --disabled-bg-color: #3B4455;\n",
              "      --disabled-fill-color: #666;\n",
              "  }\n",
              "\n",
              "  .colab-df-quickchart {\n",
              "    background-color: var(--bg-color);\n",
              "    border: none;\n",
              "    border-radius: 50%;\n",
              "    cursor: pointer;\n",
              "    display: none;\n",
              "    fill: var(--fill-color);\n",
              "    height: 32px;\n",
              "    padding: 0;\n",
              "    width: 32px;\n",
              "  }\n",
              "\n",
              "  .colab-df-quickchart:hover {\n",
              "    background-color: var(--hover-bg-color);\n",
              "    box-shadow: 0 1px 2px rgba(60, 64, 67, 0.3), 0 1px 3px 1px rgba(60, 64, 67, 0.15);\n",
              "    fill: var(--button-hover-fill-color);\n",
              "  }\n",
              "\n",
              "  .colab-df-quickchart-complete:disabled,\n",
              "  .colab-df-quickchart-complete:disabled:hover {\n",
              "    background-color: var(--disabled-bg-color);\n",
              "    fill: var(--disabled-fill-color);\n",
              "    box-shadow: none;\n",
              "  }\n",
              "\n",
              "  .colab-df-spinner {\n",
              "    border: 2px solid var(--fill-color);\n",
              "    border-color: transparent;\n",
              "    border-bottom-color: var(--fill-color);\n",
              "    animation:\n",
              "      spin 1s steps(1) infinite;\n",
              "  }\n",
              "\n",
              "  @keyframes spin {\n",
              "    0% {\n",
              "      border-color: transparent;\n",
              "      border-bottom-color: var(--fill-color);\n",
              "      border-left-color: var(--fill-color);\n",
              "    }\n",
              "    20% {\n",
              "      border-color: transparent;\n",
              "      border-left-color: var(--fill-color);\n",
              "      border-top-color: var(--fill-color);\n",
              "    }\n",
              "    30% {\n",
              "      border-color: transparent;\n",
              "      border-left-color: var(--fill-color);\n",
              "      border-top-color: var(--fill-color);\n",
              "      border-right-color: var(--fill-color);\n",
              "    }\n",
              "    40% {\n",
              "      border-color: transparent;\n",
              "      border-right-color: var(--fill-color);\n",
              "      border-top-color: var(--fill-color);\n",
              "    }\n",
              "    60% {\n",
              "      border-color: transparent;\n",
              "      border-right-color: var(--fill-color);\n",
              "    }\n",
              "    80% {\n",
              "      border-color: transparent;\n",
              "      border-right-color: var(--fill-color);\n",
              "      border-bottom-color: var(--fill-color);\n",
              "    }\n",
              "    90% {\n",
              "      border-color: transparent;\n",
              "      border-bottom-color: var(--fill-color);\n",
              "    }\n",
              "  }\n",
              "</style>\n",
              "\n",
              "  <script>\n",
              "    async function quickchart(key) {\n",
              "      const quickchartButtonEl =\n",
              "        document.querySelector('#' + key + ' button');\n",
              "      quickchartButtonEl.disabled = true;  // To prevent multiple clicks.\n",
              "      quickchartButtonEl.classList.add('colab-df-spinner');\n",
              "      try {\n",
              "        const charts = await google.colab.kernel.invokeFunction(\n",
              "            'suggestCharts', [key], {});\n",
              "      } catch (error) {\n",
              "        console.error('Error during call to suggestCharts:', error);\n",
              "      }\n",
              "      quickchartButtonEl.classList.remove('colab-df-spinner');\n",
              "      quickchartButtonEl.classList.add('colab-df-quickchart-complete');\n",
              "    }\n",
              "    (() => {\n",
              "      let quickchartButtonEl =\n",
              "        document.querySelector('#df-875db317-3673-49ee-ba10-975e5a9aefa6 button');\n",
              "      quickchartButtonEl.style.display =\n",
              "        google.colab.kernel.accessAllowed ? 'block' : 'none';\n",
              "    })();\n",
              "  </script>\n",
              "</div>\n",
              "\n",
              "  <div id=\"id_e7fcfb00-6527-4e6e-997d-cf91f54d43e6\">\n",
              "    <style>\n",
              "      .colab-df-generate {\n",
              "        background-color: #E8F0FE;\n",
              "        border: none;\n",
              "        border-radius: 50%;\n",
              "        cursor: pointer;\n",
              "        display: none;\n",
              "        fill: #1967D2;\n",
              "        height: 32px;\n",
              "        padding: 0 0 0 0;\n",
              "        width: 32px;\n",
              "      }\n",
              "\n",
              "      .colab-df-generate:hover {\n",
              "        background-color: #E2EBFA;\n",
              "        box-shadow: 0px 1px 2px rgba(60, 64, 67, 0.3), 0px 1px 3px 1px rgba(60, 64, 67, 0.15);\n",
              "        fill: #174EA6;\n",
              "      }\n",
              "\n",
              "      [theme=dark] .colab-df-generate {\n",
              "        background-color: #3B4455;\n",
              "        fill: #D2E3FC;\n",
              "      }\n",
              "\n",
              "      [theme=dark] .colab-df-generate:hover {\n",
              "        background-color: #434B5C;\n",
              "        box-shadow: 0px 1px 3px 1px rgba(0, 0, 0, 0.15);\n",
              "        filter: drop-shadow(0px 1px 2px rgba(0, 0, 0, 0.3));\n",
              "        fill: #FFFFFF;\n",
              "      }\n",
              "    </style>\n",
              "    <button class=\"colab-df-generate\" onclick=\"generateWithVariable('average_satisfaction')\"\n",
              "            title=\"Generate code using this dataframe.\"\n",
              "            style=\"display:none;\">\n",
              "\n",
              "  <svg xmlns=\"http://www.w3.org/2000/svg\" height=\"24px\"viewBox=\"0 0 24 24\"\n",
              "       width=\"24px\">\n",
              "    <path d=\"M7,19H8.4L18.45,9,17,7.55,7,17.6ZM5,21V16.75L18.45,3.32a2,2,0,0,1,2.83,0l1.4,1.43a1.91,1.91,0,0,1,.58,1.4,1.91,1.91,0,0,1-.58,1.4L9.25,21ZM18.45,9,17,7.55Zm-12,3A5.31,5.31,0,0,0,4.9,8.1,5.31,5.31,0,0,0,1,6.5,5.31,5.31,0,0,0,4.9,4.9,5.31,5.31,0,0,0,6.5,1,5.31,5.31,0,0,0,8.1,4.9,5.31,5.31,0,0,0,12,6.5,5.46,5.46,0,0,0,6.5,12Z\"/>\n",
              "  </svg>\n",
              "    </button>\n",
              "    <script>\n",
              "      (() => {\n",
              "      const buttonEl =\n",
              "        document.querySelector('#id_e7fcfb00-6527-4e6e-997d-cf91f54d43e6 button.colab-df-generate');\n",
              "      buttonEl.style.display =\n",
              "        google.colab.kernel.accessAllowed ? 'block' : 'none';\n",
              "\n",
              "      buttonEl.onclick = () => {\n",
              "        google.colab.notebook.generateWithVariable('average_satisfaction');\n",
              "      }\n",
              "      })();\n",
              "    </script>\n",
              "  </div>\n",
              "\n",
              "    </div>\n",
              "  </div>\n"
            ],
            "application/vnd.google.colaboratory.intrinsic+json": {
              "type": "dataframe",
              "variable_name": "average_satisfaction",
              "summary": "{\n  \"name\": \"average_satisfaction\",\n  \"rows\": 7,\n  \"fields\": [\n    {\n      \"column\": \"Days Since Last Purchase Binned\",\n      \"properties\": {\n        \"dtype\": \"category\",\n        \"num_unique_values\": 7,\n        \"samples\": [\n          \"0-30 days\",\n          \"31-60 days\",\n          \"181-360 days\"\n        ],\n        \"semantic_type\": \"\",\n        \"description\": \"\"\n      }\n    },\n    {\n      \"column\": \"Neutral\",\n      \"properties\": {\n        \"dtype\": \"number\",\n        \"std\": 0.1762373088658937,\n        \"min\": 0.0,\n        \"max\": 0.46875,\n        \"num_unique_values\": 3,\n        \"samples\": [\n          0.46875,\n          0.01652892561983471,\n          0.0\n        ],\n        \"semantic_type\": \"\",\n        \"description\": \"\"\n      }\n    },\n    {\n      \"column\": \"Satisfied\",\n      \"properties\": {\n        \"dtype\": \"number\",\n        \"std\": 0.19853190431039294,\n        \"min\": 0.0,\n        \"max\": 0.53125,\n        \"num_unique_values\": 3,\n        \"samples\": [\n          0.53125,\n          0.049586776859504134,\n          0.0\n        ],\n        \"semantic_type\": \"\",\n        \"description\": \"\"\n      }\n    },\n    {\n      \"column\": \"Unsatisfied\",\n      \"properties\": {\n        \"dtype\": \"number\",\n        \"std\": 0.47220532993231995,\n        \"min\": 0.0,\n        \"max\": 1.0,\n        \"num_unique_values\": 3,\n        \"samples\": [\n          0.0,\n          0.9338842975206612,\n          1.0\n        ],\n        \"semantic_type\": \"\",\n        \"description\": \"\"\n      }\n    }\n  ]\n}"
            }
          },
          "metadata": {},
          "execution_count": 78
        }
      ]
    },
    {
      "cell_type": "code",
      "source": [
        "plt.figure(figsize=(10, 6))\n",
        "average_satisfaction.plot(kind='bar', stacked=True)\n",
        "plt.title('Satisfaction Level Distribution by Days Since Last Purchase')\n",
        "plt.xlabel('Days Since Last Purchase')\n",
        "plt.ylabel('Proportion of Satisfaction Level')\n",
        "plt.legend(title='Satisfaction Level')\n",
        "plt.xticks(rotation=45)\n",
        "plt.show()"
      ],
      "metadata": {
        "colab": {
          "base_uri": "https://localhost:8080/",
          "height": 552
        },
        "id": "g89BeYwJZuPD",
        "outputId": "579ecc2d-614f-46d9-cc4a-b606bec0e1f3"
      },
      "execution_count": 79,
      "outputs": [
        {
          "output_type": "display_data",
          "data": {
            "text/plain": [
              "<Figure size 1000x600 with 0 Axes>"
            ]
          },
          "metadata": {}
        },
        {
          "output_type": "display_data",
          "data": {
            "text/plain": [
              "<Figure size 640x480 with 1 Axes>"
            ],
            "image/png": "[encoded data removed]"
          },
          "metadata": {}
        }
      ]
    }
  ]
}