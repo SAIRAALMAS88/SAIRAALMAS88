{
  "nbformat": 4,
  "nbformat_minor": 0,
  "metadata": {
    "colab": {
      "provenance": [],
      "authorship_tag": "ABX9TyMcVaP2Rh6TRVJFyU0O7ZiS",
      "include_colab_link": true
    },
    "kernelspec": {
      "name": "python3",
      "display_name": "Python 3"
    },
    "language_info": {
      "name": "python"
    }
  },
  "cells": [
    {
      "cell_type": "markdown",
      "metadata": {
        "id": "view-in-github",
        "colab_type": "text"
      },
      "source": [
        "<a href=\"https://colab.research.google.com/github/SAIRAALMAS88/SAIRAALMAS88/blob/main/AI_first.ipynb\" target=\"_parent\"><img src=\"https://colab.research.google.com/assets/colab-badge.svg\" alt=\"Open In Colab\"/></a>"
      ]
    },
    {
      "cell_type": "markdown",
      "source": [
        "#                           **    Python Basics First Assignment**"
      ],
      "metadata": {
        "id": "qWWV0lZnQDuF"
      }
    },
    {
      "cell_type": "markdown",
      "source": [
        "## **Task 1**: **Variables and Data** **Types**\n",
        "a) Create three variables: one for storing your age (integer), one for your name (string), and one to\n",
        "check if you are a student (Boolean). Print the variables.\n",
        "b) Perform the following operations and print the results:\n",
        "- Add 25 to your age variable.\n",
        "- Concatenate your name with the string &quot;Smith.&quot;\n",
        "- Negate the Boolean variable (if True, make it False, and vice versa)."
      ],
      "metadata": {
        "id": "YWucpRRtQHS-"
      }
    },
    {
      "cell_type": "code",
      "source": [
        "# Define variables\n",
        "age = 32  # Replace with your actual age\n",
        "name = \"Ahmad\"  # Replace with your actual name\n",
        "is_student = True  # Replace with your actual student status\n",
        "\n",
        "# Print the variables\n",
        "print(\"Age:\", age)\n",
        "print(\"Name:\", name)\n",
        "print(\"Is Student:\", is_student)\n",
        "\n",
        "# Perform operations and print results\n",
        "age += 25\n",
        "print(\"Age after adding 25:\", age)\n",
        "\n",
        "name += \" Zara\"\n",
        "print(\"Name after concatenation:\", name)\n",
        "\n",
        "is_student = not is_student\n",
        "print(\"Negated student status:\", is_student)"
      ],
      "metadata": {
        "colab": {
          "base_uri": "https://localhost:8080/"
        },
        "id": "AZlWl5M2QaIl",
        "outputId": "67390f48-ff6e-459b-ea87-cc7256d45a46"
      },
      "execution_count": 40,
      "outputs": [
        {
          "output_type": "stream",
          "name": "stdout",
          "text": [
            "Age: 32\n",
            "Name: Ahmad\n",
            "Is Student: True\n",
            "Age after adding 25: 57\n",
            "Name after concatenation: Ahmad Zara\n",
            "Negated student status: False\n"
          ]
        }
      ]
    },
    {
      "cell_type": "markdown",
      "source": [
        "# **Task 2: Expressions and Operators**\n",
        "a) A rectangle has a width of 5.5 units and a height of 3.25 units. Store width and height in variables.\n",
        "Create a new variable called area and write an expression to calculate the area. Print the area in the\n",
        "output."
      ],
      "metadata": {
        "id": "PC4gIWPRQ-5j"
      }
    },
    {
      "cell_type": "code",
      "source": [
        "# Define variables for width and height\n",
        "width = 5.5\n",
        "height = 3.25\n",
        "\n",
        "# Calculate the area\n",
        "area = width * height\n",
        "\n",
        "# Print the area\n",
        "print(\"Area of the rectangle:\", area)"
      ],
      "metadata": {
        "colab": {
          "base_uri": "https://localhost:8080/"
        },
        "id": "W0pwk2-bRKLu",
        "outputId": "7e3b3c5e-7a44-4be6-817b-849e9d001120"
      },
      "execution_count": 41,
      "outputs": [
        {
          "output_type": "stream",
          "name": "stdout",
          "text": [
            "Area of the rectangle: 17.875\n"
          ]
        }
      ]
    },
    {
      "cell_type": "markdown",
      "source": [
        "b) Take temperature input from user in Celsius. Convert it to Fahrenheit using the formula:\n",
        "F = (C * 9/5) + 32\n",
        "Store this temperature in a variable called Fahrenheit and print this variable."
      ],
      "metadata": {
        "id": "fx5B9gMYRX18"
      }
    },
    {
      "cell_type": "code",
      "source": [
        "# Take temperature input from the user in Celsius\n",
        "celsius = float(input(\"Enter temperature in Celsius: \"))\n",
        "\n",
        "# Convert Celsius to Fahrenheit\n",
        "fahrenheit = (celsius * 9/5) + 32\n",
        "\n",
        "# Print the converted temperature\n",
        "print(\"Temperature in Fahrenheit:\", fahrenheit)"
      ],
      "metadata": {
        "colab": {
          "base_uri": "https://localhost:8080/"
        },
        "id": "WoddDaGXRZ5h",
        "outputId": "0d5e775c-0454-49a9-a0a2-42ba3c1f97ab"
      },
      "execution_count": 42,
      "outputs": [
        {
          "output_type": "stream",
          "name": "stdout",
          "text": [
            "Enter temperature in Celsius: 32\n",
            "Temperature in Fahrenheit: 89.6\n"
          ]
        }
      ]
    },
    {
      "cell_type": "markdown",
      "source": [
        "c)Take radius of the circle as input from user. Calculate the area of a circle with this radius and store\n",
        "it in a variable called area. Print area at the end of your code.\n",
        "(Use the formula: area = π * radius^2, where π (pi) is approximately 3.14159)."
      ],
      "metadata": {
        "id": "8UESnDpoRisZ"
      }
    },
    {
      "cell_type": "code",
      "source": [
        "# Take radius input from the user\n",
        "radius = float(input(\"Enter the radius of the circle: \"))\n",
        "\n",
        "# Calculate the area of the circle\n",
        "area = 3.14159 * radius**2\n",
        "\n",
        "# Print the calculated area\n",
        "print(\"Area of the circle:\", area)"
      ],
      "metadata": {
        "colab": {
          "base_uri": "https://localhost:8080/"
        },
        "id": "kppMrKyaR7q1",
        "outputId": "0c70ceee-043a-4c99-aa0e-ac81fe407420"
      },
      "execution_count": 5,
      "outputs": [
        {
          "output_type": "stream",
          "name": "stdout",
          "text": [
            "Enter the radius of the circle: 56\n",
            "Area of the circle: 9852.02624\n"
          ]
        }
      ]
    },
    {
      "cell_type": "markdown",
      "source": [
        "# **Task 3: List Manipulation**\n",
        "a) Create a list called &quot;fruits&quot; containing the following fruits: &quot;apple&quot;, &quot;banana&quot;, &quot;cherry&quot;, &quot;date&quot;,\n",
        "&quot;strawberry&quot;, &quot;fig&quot;, and &quot;grape&quot;. Print the list."
      ],
      "metadata": {
        "id": "Be_nF8_9SI50"
      }
    },
    {
      "cell_type": "code",
      "source": [
        "# Create a list of fruits\n",
        "fruits = [\"apple\", \"banana\", \"cherry\", \"date\", \"strawberry\", \"fig\", \"grape\"]\n",
        "\n",
        "# Print the list\n",
        "print(fruits)"
      ],
      "metadata": {
        "colab": {
          "base_uri": "https://localhost:8080/"
        },
        "id": "iai55B3tSk5z",
        "outputId": "9d475732-d9bc-424e-9856-0d92a5d1c9c6"
      },
      "execution_count": 6,
      "outputs": [
        {
          "output_type": "stream",
          "name": "stdout",
          "text": [
            "['apple', 'banana', 'cherry', 'date', 'strawberry', 'fig', 'grape']\n"
          ]
        }
      ]
    },
    {
      "cell_type": "markdown",
      "source": [
        "1. Remove the first and last elements from the &quot;fruits&quot; list. Print the updated list."
      ],
      "metadata": {
        "id": "L7Pj3HVoSqY4"
      }
    },
    {
      "cell_type": "code",
      "source": [
        "# Remove the first and last elements\n",
        "fruits = fruits[1:-1]\n",
        "\n",
        "# Print the updated list\n",
        "print(fruits)"
      ],
      "metadata": {
        "colab": {
          "base_uri": "https://localhost:8080/"
        },
        "id": "yFC1FRZFSsbl",
        "outputId": "49fe8278-887d-40fc-9251-3fa21041bba4"
      },
      "execution_count": 7,
      "outputs": [
        {
          "output_type": "stream",
          "name": "stdout",
          "text": [
            "['banana', 'cherry', 'date', 'strawberry', 'fig']\n"
          ]
        }
      ]
    },
    {
      "cell_type": "markdown",
      "source": [
        "2. Replace the second to fourth items with [&quot;kiwi&quot;, &quot;lemon&quot;, &quot;mango&quot;] using list slicing."
      ],
      "metadata": {
        "id": "JORk-cGRS0Vf"
      }
    },
    {
      "cell_type": "code",
      "source": [
        "# Replace the second to fourth items\n",
        "fruits[1:4] = [\"kiwi\", \"lemon\", \"mango\"]\n",
        "\n",
        "# Print the updated list\n",
        "print(fruits)"
      ],
      "metadata": {
        "colab": {
          "base_uri": "https://localhost:8080/"
        },
        "id": "Rk4VN2L5S7fK",
        "outputId": "52c0ab9c-47d8-49bc-a164-fc7104def298"
      },
      "execution_count": 8,
      "outputs": [
        {
          "output_type": "stream",
          "name": "stdout",
          "text": [
            "['banana', 'kiwi', 'lemon', 'mango', 'fig']\n"
          ]
        }
      ]
    },
    {
      "cell_type": "markdown",
      "source": [
        "3. Use the len() function to find how many fruits are in the list."
      ],
      "metadata": {
        "id": "7bsDOKMeTE0z"
      }
    },
    {
      "cell_type": "code",
      "source": [
        "# Find the number of fruits in the list\n",
        "num_fruits = len(fruits)\n",
        "\n",
        "# Print the number of fruits\n",
        "print(\"Number of fruits:\", num_fruits)"
      ],
      "metadata": {
        "colab": {
          "base_uri": "https://localhost:8080/"
        },
        "id": "hXbpYKerTIZk",
        "outputId": "d5d6e82c-8480-47a3-b46d-090ecc6c0940"
      },
      "execution_count": 9,
      "outputs": [
        {
          "output_type": "stream",
          "name": "stdout",
          "text": [
            "Number of fruits: 5\n"
          ]
        }
      ]
    },
    {
      "cell_type": "markdown",
      "source": [
        "# **Task 4: Dictionary Operations**\n",
        "a) Create a dictionary named &quot;capitals&quot; with three key-value pairs: &quot;USA&quot; - &quot;Washington D.C.,&quot;\n",
        "&quot;France&quot; - &quot;Paris,&quot; and &quot;Japan&quot; - &quot;Tokyo.&quot; Print the dictionary."
      ],
      "metadata": {
        "id": "sgmB89JETOLp"
      }
    },
    {
      "cell_type": "code",
      "source": [
        "# Create a dictionary of capitals\n",
        "capitals = {\"USA\": \"Washington D.C.\", \"France\": \"Paris\", \"Japan\": \"Tokyo\"}\n",
        "\n",
        "# Print the dictionary\n",
        "print(capitals)"
      ],
      "metadata": {
        "colab": {
          "base_uri": "https://localhost:8080/"
        },
        "id": "PFKAZMCoTc1G",
        "outputId": "ba549f89-6aa3-44f6-c62a-f905fb82c713"
      },
      "execution_count": 10,
      "outputs": [
        {
          "output_type": "stream",
          "name": "stdout",
          "text": [
            "{'USA': 'Washington D.C.', 'France': 'Paris', 'Japan': 'Tokyo'}\n"
          ]
        }
      ]
    },
    {
      "cell_type": "markdown",
      "source": [
        "b) Add a new country and its capital to the &quot;capitals&quot; dictionary. The country is &quot;Germany,&quot; and the\n",
        "capital is &quot;Berlin.&quot; Print the updated dictionary."
      ],
      "metadata": {
        "id": "Qgncg9sxTg53"
      }
    },
    {
      "cell_type": "code",
      "source": [
        "# Add a new country and its capital\n",
        "capitals[\"Germany\"] = \"Berlin\"\n",
        "\n",
        "# Print the updated dictionary\n",
        "print(capitals)"
      ],
      "metadata": {
        "colab": {
          "base_uri": "https://localhost:8080/"
        },
        "id": "1tBll-QLTm7M",
        "outputId": "5b3b1a9e-50d2-4538-9ef1-d6589725e575"
      },
      "execution_count": 11,
      "outputs": [
        {
          "output_type": "stream",
          "name": "stdout",
          "text": [
            "{'USA': 'Washington D.C.', 'France': 'Paris', 'Japan': 'Tokyo', 'Germany': 'Berlin'}\n"
          ]
        }
      ]
    },
    {
      "cell_type": "markdown",
      "source": [
        "c) Check if &quot;France&quot; exists in the &quot;capitals&quot; dictionary. If it does, print &quot;France is in the dictionary,&quot;\n",
        "otherwise, print &quot;France is not in the dictionary.&quot;"
      ],
      "metadata": {
        "id": "01lI4pH9TrVW"
      }
    },
    {
      "cell_type": "code",
      "source": [
        "# Check if \"France\" is in the dictionary\n",
        "if \"France\" in capitals:\n",
        "    print(\"France is in the dictionary\")\n",
        "else:\n",
        "    print(\"France is not in the dictionary\")"
      ],
      "metadata": {
        "colab": {
          "base_uri": "https://localhost:8080/"
        },
        "id": "gf0KOviRTuhX",
        "outputId": "43839de3-69f5-4075-db67-3123232656a5"
      },
      "execution_count": 12,
      "outputs": [
        {
          "output_type": "stream",
          "name": "stdout",
          "text": [
            "France is in the dictionary\n"
          ]
        }
      ]
    },
    {
      "cell_type": "markdown",
      "source": [
        "# **Task 5: Comparison Operators, Logical Operators and If/Else:**\n",
        "a) Create a variable called number that takes user input. Write a block of code that checks if the\n",
        "number is positive or negative. If the number is positive only then further check if it is even or odd.\n",
        "Your output should print “The number is even”, or the “The number is odd”."
      ],
      "metadata": {
        "id": "sm6AAcszT3w2"
      }
    },
    {
      "cell_type": "code",
      "source": [
        "number = int(input(\"Enter a number: \"))\n",
        "\n",
        "if number > 0:\n",
        "    if number % 2 == 0:\n",
        "        print(\"The number is even\")\n",
        "    else:\n",
        "        print(\"The number is odd\")\n",
        "else:\n",
        "    print(\"The number is negative\")"
      ],
      "metadata": {
        "colab": {
          "base_uri": "https://localhost:8080/"
        },
        "id": "2plOz_jnUKx5",
        "outputId": "51472ea4-912c-4b5a-973d-1c818aa5009e"
      },
      "execution_count": 14,
      "outputs": [
        {
          "output_type": "stream",
          "name": "stdout",
          "text": [
            "Enter a number: 45\n",
            "The number is odd\n"
          ]
        }
      ]
    },
    {
      "cell_type": "markdown",
      "source": [
        "b) Create two variables called age and GPA. Give them values of your choice. Next, write a block of\n",
        "code to check if a student with this age and GPA is eligible for admission. The following are the\n",
        "conditions:\n"
      ],
      "metadata": {
        "id": "MergttQcUY58"
      }
    },
    {
      "cell_type": "markdown",
      "source": [
        "- The student must be at least 18 years old."
      ],
      "metadata": {
        "id": "Hm680bLGUpQT"
      }
    },
    {
      "cell_type": "code",
      "source": [
        "age = 20  # Replace with your desired age\n",
        "GPA = 3.5  # Replace with your desired GPA\n",
        "\n",
        "if age >= 18:\n",
        "    print(\"The student is eligible for admission based on age.\")\n",
        "else:\n",
        "    print(\"The student is not eligible for admission due to age.\")"
      ],
      "metadata": {
        "colab": {
          "base_uri": "https://localhost:8080/"
        },
        "id": "mSGO3V9HUuVr",
        "outputId": "0241117d-0a2a-4c07-f3f7-fd06b626582c"
      },
      "execution_count": 15,
      "outputs": [
        {
          "output_type": "stream",
          "name": "stdout",
          "text": [
            "The student is eligible for admission based on age.\n"
          ]
        }
      ]
    },
    {
      "cell_type": "markdown",
      "source": [
        "- The student&#39;s GPA must be 3.0 or higher on a scale of 4.0.\n",
        "\n",
        "  Your output should print “Eligible for admission” or “Not eligible for admission”.\n",
        "\n",
        "\n"
      ],
      "metadata": {
        "id": "PiEG_yr4UxrK"
      }
    },
    {
      "cell_type": "code",
      "source": [
        "age = 20  # Replace with your desired age\n",
        "GPA = 3.5  # Replace with your desired GPA\n",
        "\n",
        "if age >= 18 and GPA >= 3.0:\n",
        "    print(\"Eligible for admission\")\n",
        "else:\n",
        "    print(\"Not eligible for admission\")"
      ],
      "metadata": {
        "colab": {
          "base_uri": "https://localhost:8080/"
        },
        "id": "Q4_2tK8bVflW",
        "outputId": "9c85088f-7e0b-4698-bc1e-72d70a2b1ab7"
      },
      "execution_count": 17,
      "outputs": [
        {
          "output_type": "stream",
          "name": "stdout",
          "text": [
            "Eligible for admission\n"
          ]
        }
      ]
    },
    {
      "cell_type": "markdown",
      "source": [
        "# **Task 6: Strings Manipulation**\n",
        "a) Create a string variable containing the following sentence:\n",
        "&quot;Python programming is fun and powerful!&quot;"
      ],
      "metadata": {
        "id": "dMbcjwcxVzk2"
      }
    },
    {
      "cell_type": "code",
      "source": [
        "sentence = \"Python programming is fun and powerful!\""
      ],
      "metadata": {
        "id": "hbbdR3Q4V514"
      },
      "execution_count": 19,
      "outputs": []
    },
    {
      "cell_type": "markdown",
      "source": [
        "Write Python code to do the following and print the results:\n",
        "1. Find the length of the string."
      ],
      "metadata": {
        "id": "gSJNb8tcWGnp"
      }
    },
    {
      "cell_type": "code",
      "source": [
        "sentence = \"Python programming is fun and powerful!\"\n",
        "\n",
        "# Find the length of the string\n",
        "length = len(sentence)\n",
        "\n",
        "print(\"Length of the string:\", length)"
      ],
      "metadata": {
        "colab": {
          "base_uri": "https://localhost:8080/"
        },
        "id": "xocxGIBjWIsy",
        "outputId": "12a38680-d489-47c5-b592-19272f5d6338"
      },
      "execution_count": 20,
      "outputs": [
        {
          "output_type": "stream",
          "name": "stdout",
          "text": [
            "Length of the string: 39\n"
          ]
        }
      ]
    },
    {
      "cell_type": "markdown",
      "source": [
        "2. Convert the string to uppercase."
      ],
      "metadata": {
        "id": "o9uU2V6eWNwJ"
      }
    },
    {
      "cell_type": "code",
      "source": [
        "sentence = \"Python programming is fun and powerful!\"\n",
        "\n",
        "# Convert the string to uppercase\n",
        "uppercase_sentence = sentence.upper()\n",
        "\n",
        "print(\"Uppercase sentence:\", uppercase_sentence)"
      ],
      "metadata": {
        "colab": {
          "base_uri": "https://localhost:8080/"
        },
        "id": "5pEghsSgWTff",
        "outputId": "ec3522bb-e60b-4b59-a6c3-a4fc2be44bd0"
      },
      "execution_count": 21,
      "outputs": [
        {
          "output_type": "stream",
          "name": "stdout",
          "text": [
            "Uppercase sentence: PYTHON PROGRAMMING IS FUN AND POWERFUL!\n"
          ]
        }
      ]
    },
    {
      "cell_type": "markdown",
      "source": [
        "3. Replace &quot;fun&quot; with &quot;exciting.&quot;"
      ],
      "metadata": {
        "id": "4rN8IIdBWYP7"
      }
    },
    {
      "cell_type": "code",
      "source": [
        "sentence = \"Python programming is fun and powerful!\"\n",
        "\n",
        "# Replace \"fun\" with \"exciting\"\n",
        "new_sentence = sentence.replace(\"fun\", \"exciting\")\n",
        "\n",
        "print(\"New sentence:\", new_sentence)"
      ],
      "metadata": {
        "colab": {
          "base_uri": "https://localhost:8080/"
        },
        "id": "32Z4zcTyWgDW",
        "outputId": "964b6427-c90b-4eba-c113-b5a738377400"
      },
      "execution_count": 22,
      "outputs": [
        {
          "output_type": "stream",
          "name": "stdout",
          "text": [
            "New sentence: Python programming is exciting and powerful!\n"
          ]
        }
      ]
    },
    {
      "cell_type": "markdown",
      "source": [
        "4. Check if the string contains the word &quot;Python.&quot;"
      ],
      "metadata": {
        "id": "N5vLXeafWql2"
      }
    },
    {
      "cell_type": "code",
      "source": [
        "sentence = \"Python programming is fun and powerful!\"\n",
        "\n",
        "# Check if the string contains \"Python\"\n",
        "if \"Python\" in sentence:\n",
        "    print(\"The string contains 'Python'\")\n",
        "else:\n",
        "    print(\"The string does not contain 'Python'\")"
      ],
      "metadata": {
        "colab": {
          "base_uri": "https://localhost:8080/"
        },
        "id": "CU6M4GZXWvZm",
        "outputId": "e3c15f21-7343-43f1-f9b1-ea42eafd116b"
      },
      "execution_count": 23,
      "outputs": [
        {
          "output_type": "stream",
          "name": "stdout",
          "text": [
            "The string contains 'Python'\n"
          ]
        }
      ]
    },
    {
      "cell_type": "markdown",
      "source": [
        "5. Remove the word programming from the sentence and print the rest of the sentence."
      ],
      "metadata": {
        "id": "Ewqz9AA4Wzia"
      }
    },
    {
      "cell_type": "code",
      "source": [
        "sentence = \"Python programming is fun and powerful!\"\n",
        "\n",
        "# Remove \"programming\" and print the rest of the sentence\n",
        "new_sentence = sentence.replace(\"programming\", \"\")\n",
        "print(new_sentence)"
      ],
      "metadata": {
        "colab": {
          "base_uri": "https://localhost:8080/"
        },
        "id": "lWjWPQaQW4N7",
        "outputId": "a56c53cf-ab77-4497-ecd1-ad298c812ef7"
      },
      "execution_count": 24,
      "outputs": [
        {
          "output_type": "stream",
          "name": "stdout",
          "text": [
            "Python  is fun and powerful!\n"
          ]
        }
      ]
    },
    {
      "cell_type": "markdown",
      "source": [
        "6. Extract the last word &quot;powerful!&quot;"
      ],
      "metadata": {
        "id": "SXaIM7UVXGZn"
      }
    },
    {
      "cell_type": "code",
      "source": [
        "sentence = \"Python programming is fun and powerful!\"\n",
        "\n",
        "# Extract the last word\n",
        "last_word = sentence.split()[-1]\n",
        "\n",
        "print(\"Last word:\", last_word)"
      ],
      "metadata": {
        "colab": {
          "base_uri": "https://localhost:8080/"
        },
        "id": "sLHYTCg5XQqp",
        "outputId": "1eda1602-bd56-445a-c4ed-6e66257ff0e2"
      },
      "execution_count": 25,
      "outputs": [
        {
          "output_type": "stream",
          "name": "stdout",
          "text": [
            "Last word: powerful!\n"
          ]
        }
      ]
    },
    {
      "cell_type": "markdown",
      "source": [
        "b) Given the string email = &quot;user123@xmail.com&quot;, perform the following:\n",
        " Extract the username part (everything before the &quot;@&quot; symbol)."
      ],
      "metadata": {
        "id": "G4MD7VMpXYFl"
      }
    },
    {
      "cell_type": "code",
      "source": [
        "email = \"user123@xmail.com\"\n",
        "\n",
        "# Split the email using \"@\" as delimiter and get the first part (username)\n",
        "username = email.split(\"@\")[0]\n",
        "\n",
        "print(\"Username:\", username)"
      ],
      "metadata": {
        "colab": {
          "base_uri": "https://localhost:8080/"
        },
        "id": "fsW1TaBwXc_C",
        "outputId": "2e110bb5-942a-4bf2-d2b6-1c44c929b699"
      },
      "execution_count": 28,
      "outputs": [
        {
          "output_type": "stream",
          "name": "stdout",
          "text": [
            "Username: user123\n"
          ]
        }
      ]
    },
    {
      "cell_type": "markdown",
      "source": [
        "   Extract the domain part (everything after the &quot;@&quot; symbol)."
      ],
      "metadata": {
        "id": "wCt5q6w8X2NP"
      }
    },
    {
      "cell_type": "code",
      "source": [
        "email = \"user@xmail.com\"\n",
        "\n",
        "# Split the email using \"@\" as delimiter and get the second part (domain)\n",
        "domain = email.split(\"@\")[1]\n",
        "\n",
        "print(\"Domain:\", domain)"
      ],
      "metadata": {
        "colab": {
          "base_uri": "https://localhost:8080/"
        },
        "id": "31jVtn96YAr9",
        "outputId": "4a2f6037-b50f-4473-ff3f-4b34c1e78b6d"
      },
      "execution_count": 29,
      "outputs": [
        {
          "output_type": "stream",
          "name": "stdout",
          "text": [
            "Domain: xmail.com\n"
          ]
        }
      ]
    },
    {
      "cell_type": "markdown",
      "source": [
        "   Check if the email contains the substring &quot;example&quot;."
      ],
      "metadata": {
        "id": "JKRZVAMGYVOO"
      }
    },
    {
      "cell_type": "code",
      "source": [
        "email = \"user@xmail.com\"\n",
        "\n",
        "# Check if the email contains \"xmail\"\n",
        "if \"xmail\" in email:\n",
        "    print(\"The email contains 'xmail'\")\n",
        "else:\n",
        "    print(\"The email does not contain 'xmail'\")"
      ],
      "metadata": {
        "colab": {
          "base_uri": "https://localhost:8080/"
        },
        "id": "dFMt5DH8YZ9m",
        "outputId": "c7bd8dcd-e796-4806-fbc0-16b9cedcca08"
      },
      "execution_count": 30,
      "outputs": [
        {
          "output_type": "stream",
          "name": "stdout",
          "text": [
            "The email contains 'xmail'\n"
          ]
        }
      ]
    },
    {
      "cell_type": "markdown",
      "source": [
        "# **Task 7: For Loops and While Loops**\n",
        "a) Given a list of temperatures for a week, write a program that tells you how many days were above\n",
        "25°C.\n",
        "temp_list = [26, 28, 32, 36, 30, 25, 24, 22, 20, 18]\n",
        "for temp &gt; 25, print “Today&#39;s temp: temp, its hot!”\n",
        "for temp &lt;= 25, print “Today&#39;s temp: temp, it is chilly today!”"
      ],
      "metadata": {
        "id": "UlCyESQhY1jX"
      }
    },
    {
      "cell_type": "code",
      "source": [
        "temp_list = [26, 28, 32, 36, 30, 25, 24, 22, 20, 18]\n",
        "hot_days = 0\n",
        "\n",
        "for temp in temp_list:\n",
        "    if temp > 25:\n",
        "        print(\"Today's temp:\", temp, \", it's hot!\")\n",
        "        hot_days += 1\n",
        "    else:\n",
        "        print(\"Today's temp:\", temp, \", it is chilly today!\")\n",
        "\n",
        "print(\"Number of hot days:\", hot_days)"
      ],
      "metadata": {
        "colab": {
          "base_uri": "https://localhost:8080/"
        },
        "id": "0w4vVLL7Y93Q",
        "outputId": "62fd8165-b2b1-4ffa-c42f-d90ae569685e"
      },
      "execution_count": 31,
      "outputs": [
        {
          "output_type": "stream",
          "name": "stdout",
          "text": [
            "Today's temp: 26 , it's hot!\n",
            "Today's temp: 28 , it's hot!\n",
            "Today's temp: 32 , it's hot!\n",
            "Today's temp: 36 , it's hot!\n",
            "Today's temp: 30 , it's hot!\n",
            "Today's temp: 25 , it is chilly today!\n",
            "Today's temp: 24 , it is chilly today!\n",
            "Today's temp: 22 , it is chilly today!\n",
            "Today's temp: 20 , it is chilly today!\n",
            "Today's temp: 18 , it is chilly today!\n",
            "Number of hot days: 5\n"
          ]
        }
      ]
    },
    {
      "cell_type": "markdown",
      "source": [
        "b) Use a for loop and the range() function to display following sequences:\n",
        "1. Add to list: [-20, -17, -14, -11, -8, -5, -2, 1, 4, 7, 10, 13, 16, 19, 22, 25, 28]\n",
        "2. Add to list: [110, 112, 114, 116, 118, 120, 122, 124, 126, 128]\n",
        "3. Print: Multiples of 7 starting from 5 and less than 100.\n",
        "4. Print: The first 20 Fibonacci numbers."
      ],
      "metadata": {
        "id": "KZfTb1m2ZEsq"
      }
    },
    {
      "cell_type": "code",
      "source": [
        "# 1. Add to list: [-20, -17, -14, -11, -8, -5, -2, 1, 4, 7, 10, 13, 16, 19, 22, 25, 28]\n",
        "my_list = []\n",
        "for i in range(-20, 30, 3):\n",
        "    my_list.append(i)\n",
        "print(my_list)\n",
        "\n",
        "# 2. Add to list: [110, 112, 114, 116, 118, 120, 122, 124, 126, 128]\n",
        "my_list = []\n",
        "for i in range(110, 130, 2):\n",
        "    my_list.append(i)\n",
        "print(my_list)\n",
        "\n",
        "# 3. Print: Multiples of 7 starting from 5 and less than 100\n",
        "for i in range(5, 100, 7):\n",
        "    print(i)\n",
        "\n",
        "# 4. Print: The first 20 Fibonacci numbers\n",
        "fib1, fib2 = 0, 1\n",
        "for i in range(20):\n",
        "    print(fib1)\n",
        "    fib1, fib2 = fib2, fib1 + fib2"
      ],
      "metadata": {
        "colab": {
          "base_uri": "https://localhost:8080/"
        },
        "id": "TS-JEgexZIO9",
        "outputId": "e1d0046d-97b0-4493-b7c5-78dda10bd2a1"
      },
      "execution_count": 32,
      "outputs": [
        {
          "output_type": "stream",
          "name": "stdout",
          "text": [
            "[-20, -17, -14, -11, -8, -5, -2, 1, 4, 7, 10, 13, 16, 19, 22, 25, 28]\n",
            "[110, 112, 114, 116, 118, 120, 122, 124, 126, 128]\n",
            "5\n",
            "12\n",
            "19\n",
            "26\n",
            "33\n",
            "40\n",
            "47\n",
            "54\n",
            "61\n",
            "68\n",
            "75\n",
            "82\n",
            "89\n",
            "96\n",
            "0\n",
            "1\n",
            "1\n",
            "2\n",
            "3\n",
            "5\n",
            "8\n",
            "13\n",
            "21\n",
            "34\n",
            "55\n",
            "89\n",
            "144\n",
            "233\n",
            "377\n",
            "610\n",
            "987\n",
            "1597\n",
            "2584\n",
            "4181\n"
          ]
        }
      ]
    },
    {
      "cell_type": "markdown",
      "source": [
        "c) Use nested loops to display the following pattern.\n",
        "*\n",
        "**\n",
        "***\n",
        "****\n",
        "*****\n",
        "******"
      ],
      "metadata": {
        "id": "nhKyhk11ZNHD"
      }
    },
    {
      "cell_type": "code",
      "source": [
        "for i in range(1, 7):\n",
        "    for j in range(i):\n",
        "        print(\"*\", end=\"\")\n",
        "    print()"
      ],
      "metadata": {
        "colab": {
          "base_uri": "https://localhost:8080/"
        },
        "id": "PdnNDvG_Zc84",
        "outputId": "b5ba89f1-82d1-4c5c-dafa-24951304176b"
      },
      "execution_count": 33,
      "outputs": [
        {
          "output_type": "stream",
          "name": "stdout",
          "text": [
            "*\n",
            "**\n",
            "***\n",
            "****\n",
            "*****\n",
            "******\n"
          ]
        }
      ]
    },
    {
      "cell_type": "markdown",
      "source": [
        "d) Write a nested loop through the given list to find pair of numbers that sum to a given value.\n",
        "numbers = [6, 8, 2, 4, 6, 10]\n",
        "target_sum = 12\n",
        "Save and print the pairs in tuples."
      ],
      "metadata": {
        "id": "QtBxP_NlZg2g"
      }
    },
    {
      "cell_type": "code",
      "source": [
        "numbers = [6, 8, 2, 4, 6, 10]\n",
        "target_sum = 12\n",
        "\n",
        "pairs = []\n",
        "\n",
        "for i in range(len(numbers)):\n",
        "    for j in range(i + 1, len(numbers)):\n",
        "        if numbers[i] + numbers[j] == target_sum:\n",
        "            pairs.append((numbers[i], numbers[j]))\n",
        "\n",
        "print(pairs)"
      ],
      "metadata": {
        "colab": {
          "base_uri": "https://localhost:8080/"
        },
        "id": "DAhfidbfZlUp",
        "outputId": "3f799992-3f7c-45de-916b-2c238ceeb1f1"
      },
      "execution_count": 34,
      "outputs": [
        {
          "output_type": "stream",
          "name": "stdout",
          "text": [
            "[(6, 6), (8, 4), (2, 10)]\n"
          ]
        }
      ]
    },
    {
      "cell_type": "markdown",
      "source": [
        "e) A student obtains the following grades in his courses. Make a list of his scores and write a loop to\n",
        "sum up his total score. Also, calculate his percentage.\n",
        "\n",
        "Courses     Scores out of 100\n",
        "Mathematics              78\n",
        "Programming              82\n",
        "Biology                  65\n",
        "Physics                  80\n",
        "Chemistry                50"
      ],
      "metadata": {
        "id": "flpuggWkZusx"
      }
    },
    {
      "cell_type": "code",
      "source": [
        "scores = [78, 82, 65, 80, 50]\n",
        "total_score = 0\n",
        "\n",
        "for score in scores:\n",
        "    total_score += score\n",
        "\n",
        "percentage = (total_score / (len(scores) * 100)) * 100\n",
        "\n",
        "print(\"Total Score:\", total_score)\n",
        "print(\"Percentage:\", percentage)"
      ],
      "metadata": {
        "colab": {
          "base_uri": "https://localhost:8080/"
        },
        "id": "rV4bf6CFZwGb",
        "outputId": "fec184f0-d58b-4250-b2e8-ee59f2d8059f"
      },
      "execution_count": 35,
      "outputs": [
        {
          "output_type": "stream",
          "name": "stdout",
          "text": [
            "Total Score: 355\n",
            "Percentage: 71.0\n"
          ]
        }
      ]
    },
    {
      "cell_type": "markdown",
      "source": [
        "Next, use python dictionary to assign grades to the student according to the following table:\n",
        "\n",
        "Percentage   Grade\n",
        "90-100         A\n",
        "80-89           B+\n",
        "60-79          B\n",
        "40-59          C\n",
        "39 and below   F"
      ],
      "metadata": {
        "id": "gpKCp2TMaDWZ"
      }
    },
    {
      "cell_type": "code",
      "source": [
        "scores = [78, 82, 65, 80, 50]\n",
        "total_score = 0\n",
        "\n",
        "for score in scores:\n",
        "    total_score += score\n",
        "\n",
        "percentage = (total_score / (len(scores) * 100)) * 100\n",
        "\n",
        "grade_scale = {\n",
        "    (90, 100): \"A\",\n",
        "    (80, 89): \"B+\",\n",
        "    (60, 79): \"B\",\n",
        "    (40, 59): \"C\",\n",
        "    (0, 39): \"F\"\n",
        "}\n",
        "\n",
        "for grade_range, grade in grade_scale.items():\n",
        "    if grade_range[0] <= percentage <= grade_range[1]:\n",
        "        print(\"Grade:\", grade)\n",
        "        break"
      ],
      "metadata": {
        "colab": {
          "base_uri": "https://localhost:8080/"
        },
        "id": "Ej6qx_IxaDlL",
        "outputId": "7817a227-cb80-4802-f481-e37b325f5a04"
      },
      "execution_count": 36,
      "outputs": [
        {
          "output_type": "stream",
          "name": "stdout",
          "text": [
            "Grade: B\n"
          ]
        }
      ]
    },
    {
      "cell_type": "markdown",
      "source": [
        "# **Task 8: Functions:**\n",
        "a) Write a function called calculate_area that takes the length and width of a rectangle and returns\n",
        "its area."
      ],
      "metadata": {
        "id": "uzD2TTT5aLjc"
      }
    },
    {
      "cell_type": "code",
      "source": [
        "def calculate_area(length, width):\n",
        "    \"\"\"Calculates the area of a rectangle.\n",
        "\n",
        "    Args:\n",
        "        length: The length of the rectangle.\n",
        "        width: The width of the rectangle.\n",
        "\n",
        "    Returns:\n",
        "        The area of the rectangle.\n",
        "    \"\"\"\n",
        "\n",
        "    area = length * width\n",
        "    return area\n",
        "\n",
        "# Example usage:\n",
        "length = 5\n",
        "width = 3\n",
        "result = calculate_area(length, width)\n",
        "print(\"Area of the rectangle:\", result)"
      ],
      "metadata": {
        "colab": {
          "base_uri": "https://localhost:8080/"
        },
        "id": "iMImj0DoaSIf",
        "outputId": "ec50871d-b83d-44b1-9a0c-f209dcfbeb11"
      },
      "execution_count": 37,
      "outputs": [
        {
          "output_type": "stream",
          "name": "stdout",
          "text": [
            "Area of the rectangle: 15\n"
          ]
        }
      ]
    },
    {
      "cell_type": "markdown",
      "source": [
        "b) Write a Python function to find the max of three numbers entered by the user."
      ],
      "metadata": {
        "id": "dTeCxp67aVYZ"
      }
    },
    {
      "cell_type": "code",
      "source": [
        "def find_max(num1, num2, num3):\n",
        "    \"\"\"Finds the maximum of three numbers.\n",
        "\n",
        "    Args:\n",
        "        num1: The first number.\n",
        "        num2: The second number.\n",
        "        num3: The third number.\n",
        "\n",
        "    Returns:\n",
        "        The maximum of the three numbers.\n",
        "    \"\"\"\n",
        "\n",
        "    max_num = max(num1, num2, num3)\n",
        "    return max_num\n",
        "\n",
        "# Get input from the user\n",
        "num1 = float(input(\"Enter the first number: \"))\n",
        "num2 = float(input(\"Enter the second number: \"))\n",
        "num3 = float(input(\"Enter the third number: \"))\n",
        "\n",
        "# Find the maximum number\n",
        "result = find_max(num1, num2, num3)\n",
        "\n",
        "print(\"The maximum number is:\", result)"
      ],
      "metadata": {
        "colab": {
          "base_uri": "https://localhost:8080/"
        },
        "id": "AWYoz1Ssaad5",
        "outputId": "e48a014f-4126-4e54-e5fb-8883030883fa"
      },
      "execution_count": 38,
      "outputs": [
        {
          "output_type": "stream",
          "name": "stdout",
          "text": [
            "Enter the first number: 92\n",
            "Enter the second number: 87\n",
            "Enter the third number: 95\n",
            "The maximum number is: 95.0\n"
          ]
        }
      ]
    },
    {
      "cell_type": "markdown",
      "source": [
        "c) Create a basic calculator program that can perform addition, subtraction, multiplication, and\n",
        "division operations. Ask the user to input 2 numbers and the operation they want to perform. Print\n",
        "result accordingly."
      ],
      "metadata": {
        "id": "1400JC0Bals9"
      }
    },
    {
      "cell_type": "code",
      "source": [
        "def add(x, y):\n",
        "    return x + y\n",
        "\n",
        "def subtract(x, y):\n",
        "    return x - y\n",
        "\n",
        "def multiply(x, y):\n",
        "    return x * y\n",
        "\n",
        "def divide(x, y):\n",
        "    if y == 0:\n",
        "        return \"Error: Division by zero\"\n",
        "    return x / y\n",
        "\n",
        "def main():\n",
        "    print(\"Select operation:\")\n",
        "    print(\"1.Add\")\n",
        "    print(\"2.Subtract\")\n",
        "    print(\"3.Multiply\")\n",
        "    print(\"4.Divide\")\n",
        "\n",
        "    choice = input(\"Enter choice(1/2/3/4): \")\n",
        "\n",
        "    num1 = float(input(\"Enter first number: \"))\n",
        "    num2 = float(input(\"Enter second number: \"))\n",
        "\n",
        "    if choice == '1':\n",
        "        print(num1, \"+\", num2, \"=\", add(num1, num2))\n",
        "\n",
        "    elif choice == '2':\n",
        "        print(num1, \"-\", num2, \"=\", subtract(num1, num2))\n",
        "\n",
        "    elif choice == '3':\n",
        "        print(num1, \"*\", num2, \"=\", multiply(num1, num2))\n",
        "\n",
        "    elif choice == '4':\n",
        "        print(num1, \"/\", num2, \"=\", divide(num1, num2))\n",
        "\n",
        "    else:\n",
        "        print(\"Invalid Input\")\n",
        "\n",
        "if __name__ == \"__main__\":\n",
        "    main()3"
      ],
      "metadata": {
        "colab": {
          "base_uri": "https://localhost:8080/"
        },
        "id": "tpoCkmFIaqMy",
        "outputId": "58ed1975-12d5-4926-879a-4f0d5c0e47ee"
      },
      "execution_count": 39,
      "outputs": [
        {
          "output_type": "stream",
          "name": "stdout",
          "text": [
            "Select operation:\n",
            "1.Add\n",
            "2.Subtract\n",
            "3.Multiply\n",
            "4.Divide\n",
            "Enter choice(1/2/3/4): 56\n",
            "Enter first number: 33\n",
            "Enter second number: 11\n",
            "Invalid Input\n"
          ]
        }
      ]
    }
  ]
}